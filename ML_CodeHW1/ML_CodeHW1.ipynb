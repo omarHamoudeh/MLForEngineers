{
  "cells": [
    {
      "cell_type": "markdown",
      "metadata": {
        "id": "DAO8AZsc266y"
      },
      "source": [
        "# Omar Hamoudeh\n",
        "# Programming Exercise \\#1\n",
        "---"
      ]
    },
    {
      "cell_type": "markdown",
      "metadata": {
        "id": "rJOtXeNg38_u"
      },
      "source": [
        "# Preamble"
      ]
    },
    {
      "cell_type": "code",
      "execution_count": 3,
      "metadata": {},
      "outputs": [],
      "source": [
        "import numpy as np\n",
        "import pandas as pd\n",
        "from scipy import stats as sps\n",
        "from IPython.display import display, Latex\n",
        "pd.set_option('display.max_columns', None)\n"
      ]
    },
    {
      "cell_type": "markdown",
      "metadata": {
        "id": "PeHo02TLz-hL"
      },
      "source": [
        "# **1. Fetal Health Classification Dataset**"
      ]
    },
    {
      "cell_type": "markdown",
      "metadata": {
        "id": "wnzH3Rd2vu-l"
      },
      "source": [
        "## **Clean Dataset**"
      ]
    },
    {
      "cell_type": "markdown",
      "metadata": {
        "id": "qmMHJttez-hM"
      },
      "source": [
        "### Problem 1.1"
      ]
    },
    {
      "cell_type": "code",
      "execution_count": 4,
      "metadata": {
        "id": "IgKSHxewsRdP"
      },
      "outputs": [],
      "source": [
        "# load the clean dataset csv file into a pandas dataframe\n",
        "\n",
        "fetal_df = pd.read_csv('fetal_health_dataset_clean.csv')\n"
      ]
    },
    {
      "cell_type": "markdown",
      "metadata": {
        "id": "EKQZRr9Dz-hN"
      },
      "source": [
        "#### (a)"
      ]
    },
    {
      "cell_type": "markdown",
      "metadata": {
        "id": "9eH6uWf4z-hN"
      },
      "source": [
        "This is a supervised machine learning task because the dataset contains a labeled column, 'fetal_health,' which categorizes each data point (fetus) into one of three classes: Normal, Suspect, or Pathological. Since the goal is to predict the health category of the fetus based on other features in the dataset, and the labels are already provided for the model to learn from, it fits the definition of a supervised learning problem."
      ]
    },
    {
      "cell_type": "markdown",
      "metadata": {
        "id": "77c-6U-_z-hO"
      },
      "source": [
        "#### (b)"
      ]
    },
    {
      "cell_type": "code",
      "execution_count": 5,
      "metadata": {
        "id": "530SUQVjz-hP"
      },
      "outputs": [
        {
          "name": "stdout",
          "output_type": "stream",
          "text": [
            "Axes: [RangeIndex(start=0, stop=2126, step=1), Index(['baseline value', 'accelerations', 'fetal_movement',\n",
            "       'uterine_contractions', 'light_decelerations', 'severe_decelerations',\n",
            "       'prolongued_decelerations', 'abnormal_short_term_variability',\n",
            "       'mean_value_of_short_term_variability',\n",
            "       'percentage_of_time_with_abnormal_long_term_variability',\n",
            "       'mean_value_of_long_term_variability', 'histogram_width',\n",
            "       'histogram_min', 'histogram_max', 'histogram_number_of_peaks',\n",
            "       'histogram_number_of_zeroes', 'histogram_mode', 'histogram_mean',\n",
            "       'histogram_median', 'histogram_variance', 'histogram_tendency',\n",
            "       'fetal_health'],\n",
            "      dtype='object')]\n",
            "-----------------------------------------------------------------------------------\n",
            "Data types:\n"
          ]
        },
        {
          "data": {
            "text/plain": [
              "baseline value                                              int64\n",
              "accelerations                                             float64\n",
              "fetal_movement                                            float64\n",
              "uterine_contractions                                      float64\n",
              "light_decelerations                                       float64\n",
              "severe_decelerations                                      float64\n",
              "prolongued_decelerations                                  float64\n",
              "abnormal_short_term_variability                             int64\n",
              "mean_value_of_short_term_variability                      float64\n",
              "percentage_of_time_with_abnormal_long_term_variability      int64\n",
              "mean_value_of_long_term_variability                       float64\n",
              "histogram_width                                             int64\n",
              "histogram_min                                               int64\n",
              "histogram_max                                               int64\n",
              "histogram_number_of_peaks                                   int64\n",
              "histogram_number_of_zeroes                                  int64\n",
              "histogram_mode                                              int64\n",
              "histogram_mean                                              int64\n",
              "histogram_median                                            int64\n",
              "histogram_variance                                          int64\n",
              "histogram_tendency                                          int64\n",
              "fetal_health                                                int64\n",
              "dtype: object"
            ]
          },
          "metadata": {},
          "output_type": "display_data"
        }
      ],
      "source": [
        "### Your code for 1.1(b) goes here ###\n",
        "print(\"Axes:\", fetal_df.axes)\n",
        "print(\"-----------------------------------------------------------------------------------\")\n",
        "print(\"Data types:\")\n",
        "display(fetal_df.dtypes)"
      ]
    },
    {
      "cell_type": "markdown",
      "metadata": {
        "id": "_tMu1LVSz-hQ"
      },
      "source": [
        "#### (c)\n",
        "\n"
      ]
    },
    {
      "cell_type": "code",
      "execution_count": 6,
      "metadata": {
        "id": "1D7twXbHz-hR"
      },
      "outputs": [
        {
          "data": {
            "text/html": [
              "<div>\n",
              "<style scoped>\n",
              "    .dataframe tbody tr th:only-of-type {\n",
              "        vertical-align: middle;\n",
              "    }\n",
              "\n",
              "    .dataframe tbody tr th {\n",
              "        vertical-align: top;\n",
              "    }\n",
              "\n",
              "    .dataframe thead th {\n",
              "        text-align: right;\n",
              "    }\n",
              "</style>\n",
              "<table border=\"1\" class=\"dataframe\">\n",
              "  <thead>\n",
              "    <tr style=\"text-align: right;\">\n",
              "      <th></th>\n",
              "      <th>baseline value</th>\n",
              "      <th>accelerations</th>\n",
              "      <th>fetal_movement</th>\n",
              "      <th>uterine_contractions</th>\n",
              "      <th>light_decelerations</th>\n",
              "      <th>severe_decelerations</th>\n",
              "      <th>prolongued_decelerations</th>\n",
              "      <th>abnormal_short_term_variability</th>\n",
              "      <th>mean_value_of_short_term_variability</th>\n",
              "      <th>percentage_of_time_with_abnormal_long_term_variability</th>\n",
              "      <th>mean_value_of_long_term_variability</th>\n",
              "      <th>histogram_width</th>\n",
              "      <th>histogram_min</th>\n",
              "      <th>histogram_max</th>\n",
              "      <th>histogram_number_of_peaks</th>\n",
              "      <th>histogram_number_of_zeroes</th>\n",
              "      <th>histogram_mode</th>\n",
              "      <th>histogram_mean</th>\n",
              "      <th>histogram_median</th>\n",
              "      <th>histogram_variance</th>\n",
              "      <th>histogram_tendency</th>\n",
              "      <th>fetal_health</th>\n",
              "    </tr>\n",
              "  </thead>\n",
              "  <tbody>\n",
              "    <tr>\n",
              "      <th>0</th>\n",
              "      <td>120</td>\n",
              "      <td>0.000</td>\n",
              "      <td>0.0</td>\n",
              "      <td>0.000</td>\n",
              "      <td>0.000</td>\n",
              "      <td>0.0</td>\n",
              "      <td>0.000</td>\n",
              "      <td>73</td>\n",
              "      <td>0.5</td>\n",
              "      <td>43</td>\n",
              "      <td>2.4</td>\n",
              "      <td>64</td>\n",
              "      <td>62</td>\n",
              "      <td>126</td>\n",
              "      <td>2</td>\n",
              "      <td>0</td>\n",
              "      <td>120</td>\n",
              "      <td>137</td>\n",
              "      <td>121</td>\n",
              "      <td>73</td>\n",
              "      <td>1</td>\n",
              "      <td>2</td>\n",
              "    </tr>\n",
              "    <tr>\n",
              "      <th>1</th>\n",
              "      <td>132</td>\n",
              "      <td>0.006</td>\n",
              "      <td>0.0</td>\n",
              "      <td>0.006</td>\n",
              "      <td>0.003</td>\n",
              "      <td>0.0</td>\n",
              "      <td>0.000</td>\n",
              "      <td>17</td>\n",
              "      <td>2.1</td>\n",
              "      <td>0</td>\n",
              "      <td>10.4</td>\n",
              "      <td>130</td>\n",
              "      <td>68</td>\n",
              "      <td>198</td>\n",
              "      <td>6</td>\n",
              "      <td>1</td>\n",
              "      <td>141</td>\n",
              "      <td>136</td>\n",
              "      <td>140</td>\n",
              "      <td>12</td>\n",
              "      <td>0</td>\n",
              "      <td>1</td>\n",
              "    </tr>\n",
              "    <tr>\n",
              "      <th>2</th>\n",
              "      <td>133</td>\n",
              "      <td>0.003</td>\n",
              "      <td>0.0</td>\n",
              "      <td>0.008</td>\n",
              "      <td>0.003</td>\n",
              "      <td>0.0</td>\n",
              "      <td>0.000</td>\n",
              "      <td>16</td>\n",
              "      <td>2.1</td>\n",
              "      <td>0</td>\n",
              "      <td>13.4</td>\n",
              "      <td>130</td>\n",
              "      <td>68</td>\n",
              "      <td>198</td>\n",
              "      <td>5</td>\n",
              "      <td>1</td>\n",
              "      <td>141</td>\n",
              "      <td>135</td>\n",
              "      <td>138</td>\n",
              "      <td>13</td>\n",
              "      <td>0</td>\n",
              "      <td>1</td>\n",
              "    </tr>\n",
              "    <tr>\n",
              "      <th>3</th>\n",
              "      <td>134</td>\n",
              "      <td>0.003</td>\n",
              "      <td>0.0</td>\n",
              "      <td>0.008</td>\n",
              "      <td>0.003</td>\n",
              "      <td>0.0</td>\n",
              "      <td>0.000</td>\n",
              "      <td>16</td>\n",
              "      <td>2.4</td>\n",
              "      <td>0</td>\n",
              "      <td>23.0</td>\n",
              "      <td>117</td>\n",
              "      <td>53</td>\n",
              "      <td>170</td>\n",
              "      <td>11</td>\n",
              "      <td>0</td>\n",
              "      <td>137</td>\n",
              "      <td>134</td>\n",
              "      <td>137</td>\n",
              "      <td>13</td>\n",
              "      <td>1</td>\n",
              "      <td>1</td>\n",
              "    </tr>\n",
              "    <tr>\n",
              "      <th>4</th>\n",
              "      <td>132</td>\n",
              "      <td>0.007</td>\n",
              "      <td>0.0</td>\n",
              "      <td>0.008</td>\n",
              "      <td>0.000</td>\n",
              "      <td>0.0</td>\n",
              "      <td>0.000</td>\n",
              "      <td>16</td>\n",
              "      <td>2.4</td>\n",
              "      <td>0</td>\n",
              "      <td>19.9</td>\n",
              "      <td>117</td>\n",
              "      <td>53</td>\n",
              "      <td>170</td>\n",
              "      <td>9</td>\n",
              "      <td>0</td>\n",
              "      <td>137</td>\n",
              "      <td>136</td>\n",
              "      <td>138</td>\n",
              "      <td>11</td>\n",
              "      <td>1</td>\n",
              "      <td>1</td>\n",
              "    </tr>\n",
              "    <tr>\n",
              "      <th>5</th>\n",
              "      <td>134</td>\n",
              "      <td>0.001</td>\n",
              "      <td>0.0</td>\n",
              "      <td>0.010</td>\n",
              "      <td>0.009</td>\n",
              "      <td>0.0</td>\n",
              "      <td>0.002</td>\n",
              "      <td>26</td>\n",
              "      <td>5.9</td>\n",
              "      <td>0</td>\n",
              "      <td>0.0</td>\n",
              "      <td>150</td>\n",
              "      <td>50</td>\n",
              "      <td>200</td>\n",
              "      <td>5</td>\n",
              "      <td>3</td>\n",
              "      <td>76</td>\n",
              "      <td>107</td>\n",
              "      <td>107</td>\n",
              "      <td>170</td>\n",
              "      <td>0</td>\n",
              "      <td>3</td>\n",
              "    </tr>\n",
              "    <tr>\n",
              "      <th>6</th>\n",
              "      <td>134</td>\n",
              "      <td>0.001</td>\n",
              "      <td>0.0</td>\n",
              "      <td>0.013</td>\n",
              "      <td>0.008</td>\n",
              "      <td>0.0</td>\n",
              "      <td>0.003</td>\n",
              "      <td>29</td>\n",
              "      <td>6.3</td>\n",
              "      <td>0</td>\n",
              "      <td>0.0</td>\n",
              "      <td>150</td>\n",
              "      <td>50</td>\n",
              "      <td>200</td>\n",
              "      <td>6</td>\n",
              "      <td>3</td>\n",
              "      <td>71</td>\n",
              "      <td>107</td>\n",
              "      <td>106</td>\n",
              "      <td>215</td>\n",
              "      <td>0</td>\n",
              "      <td>3</td>\n",
              "    </tr>\n",
              "    <tr>\n",
              "      <th>7</th>\n",
              "      <td>122</td>\n",
              "      <td>0.000</td>\n",
              "      <td>0.0</td>\n",
              "      <td>0.000</td>\n",
              "      <td>0.000</td>\n",
              "      <td>0.0</td>\n",
              "      <td>0.000</td>\n",
              "      <td>83</td>\n",
              "      <td>0.5</td>\n",
              "      <td>6</td>\n",
              "      <td>15.6</td>\n",
              "      <td>68</td>\n",
              "      <td>62</td>\n",
              "      <td>130</td>\n",
              "      <td>0</td>\n",
              "      <td>0</td>\n",
              "      <td>122</td>\n",
              "      <td>122</td>\n",
              "      <td>123</td>\n",
              "      <td>3</td>\n",
              "      <td>1</td>\n",
              "      <td>3</td>\n",
              "    </tr>\n",
              "    <tr>\n",
              "      <th>8</th>\n",
              "      <td>122</td>\n",
              "      <td>0.000</td>\n",
              "      <td>0.0</td>\n",
              "      <td>0.002</td>\n",
              "      <td>0.000</td>\n",
              "      <td>0.0</td>\n",
              "      <td>0.000</td>\n",
              "      <td>84</td>\n",
              "      <td>0.5</td>\n",
              "      <td>5</td>\n",
              "      <td>13.6</td>\n",
              "      <td>68</td>\n",
              "      <td>62</td>\n",
              "      <td>130</td>\n",
              "      <td>0</td>\n",
              "      <td>0</td>\n",
              "      <td>122</td>\n",
              "      <td>122</td>\n",
              "      <td>123</td>\n",
              "      <td>3</td>\n",
              "      <td>1</td>\n",
              "      <td>3</td>\n",
              "    </tr>\n",
              "    <tr>\n",
              "      <th>9</th>\n",
              "      <td>122</td>\n",
              "      <td>0.000</td>\n",
              "      <td>0.0</td>\n",
              "      <td>0.003</td>\n",
              "      <td>0.000</td>\n",
              "      <td>0.0</td>\n",
              "      <td>0.000</td>\n",
              "      <td>86</td>\n",
              "      <td>0.3</td>\n",
              "      <td>6</td>\n",
              "      <td>10.6</td>\n",
              "      <td>68</td>\n",
              "      <td>62</td>\n",
              "      <td>130</td>\n",
              "      <td>1</td>\n",
              "      <td>0</td>\n",
              "      <td>122</td>\n",
              "      <td>122</td>\n",
              "      <td>123</td>\n",
              "      <td>1</td>\n",
              "      <td>1</td>\n",
              "      <td>3</td>\n",
              "    </tr>\n",
              "  </tbody>\n",
              "</table>\n",
              "</div>"
            ],
            "text/plain": [
              "   baseline value  accelerations  fetal_movement  uterine_contractions  \\\n",
              "0             120          0.000             0.0                 0.000   \n",
              "1             132          0.006             0.0                 0.006   \n",
              "2             133          0.003             0.0                 0.008   \n",
              "3             134          0.003             0.0                 0.008   \n",
              "4             132          0.007             0.0                 0.008   \n",
              "5             134          0.001             0.0                 0.010   \n",
              "6             134          0.001             0.0                 0.013   \n",
              "7             122          0.000             0.0                 0.000   \n",
              "8             122          0.000             0.0                 0.002   \n",
              "9             122          0.000             0.0                 0.003   \n",
              "\n",
              "   light_decelerations  severe_decelerations  prolongued_decelerations  \\\n",
              "0                0.000                   0.0                     0.000   \n",
              "1                0.003                   0.0                     0.000   \n",
              "2                0.003                   0.0                     0.000   \n",
              "3                0.003                   0.0                     0.000   \n",
              "4                0.000                   0.0                     0.000   \n",
              "5                0.009                   0.0                     0.002   \n",
              "6                0.008                   0.0                     0.003   \n",
              "7                0.000                   0.0                     0.000   \n",
              "8                0.000                   0.0                     0.000   \n",
              "9                0.000                   0.0                     0.000   \n",
              "\n",
              "   abnormal_short_term_variability  mean_value_of_short_term_variability  \\\n",
              "0                               73                                   0.5   \n",
              "1                               17                                   2.1   \n",
              "2                               16                                   2.1   \n",
              "3                               16                                   2.4   \n",
              "4                               16                                   2.4   \n",
              "5                               26                                   5.9   \n",
              "6                               29                                   6.3   \n",
              "7                               83                                   0.5   \n",
              "8                               84                                   0.5   \n",
              "9                               86                                   0.3   \n",
              "\n",
              "   percentage_of_time_with_abnormal_long_term_variability  \\\n",
              "0                                                 43        \n",
              "1                                                  0        \n",
              "2                                                  0        \n",
              "3                                                  0        \n",
              "4                                                  0        \n",
              "5                                                  0        \n",
              "6                                                  0        \n",
              "7                                                  6        \n",
              "8                                                  5        \n",
              "9                                                  6        \n",
              "\n",
              "   mean_value_of_long_term_variability  histogram_width  histogram_min  \\\n",
              "0                                  2.4               64             62   \n",
              "1                                 10.4              130             68   \n",
              "2                                 13.4              130             68   \n",
              "3                                 23.0              117             53   \n",
              "4                                 19.9              117             53   \n",
              "5                                  0.0              150             50   \n",
              "6                                  0.0              150             50   \n",
              "7                                 15.6               68             62   \n",
              "8                                 13.6               68             62   \n",
              "9                                 10.6               68             62   \n",
              "\n",
              "   histogram_max  histogram_number_of_peaks  histogram_number_of_zeroes  \\\n",
              "0            126                          2                           0   \n",
              "1            198                          6                           1   \n",
              "2            198                          5                           1   \n",
              "3            170                         11                           0   \n",
              "4            170                          9                           0   \n",
              "5            200                          5                           3   \n",
              "6            200                          6                           3   \n",
              "7            130                          0                           0   \n",
              "8            130                          0                           0   \n",
              "9            130                          1                           0   \n",
              "\n",
              "   histogram_mode  histogram_mean  histogram_median  histogram_variance  \\\n",
              "0             120             137               121                  73   \n",
              "1             141             136               140                  12   \n",
              "2             141             135               138                  13   \n",
              "3             137             134               137                  13   \n",
              "4             137             136               138                  11   \n",
              "5              76             107               107                 170   \n",
              "6              71             107               106                 215   \n",
              "7             122             122               123                   3   \n",
              "8             122             122               123                   3   \n",
              "9             122             122               123                   1   \n",
              "\n",
              "   histogram_tendency  fetal_health  \n",
              "0                   1             2  \n",
              "1                   0             1  \n",
              "2                   0             1  \n",
              "3                   1             1  \n",
              "4                   1             1  \n",
              "5                   0             3  \n",
              "6                   0             3  \n",
              "7                   1             3  \n",
              "8                   1             3  \n",
              "9                   1             3  "
            ]
          },
          "metadata": {},
          "output_type": "display_data"
        }
      ],
      "source": [
        "display(fetal_df.head(10))"
      ]
    },
    {
      "cell_type": "markdown",
      "metadata": {
        "id": "kUKa9J6dz-hR"
      },
      "source": [
        "#### (d)"
      ]
    },
    {
      "cell_type": "code",
      "execution_count": 7,
      "metadata": {
        "id": "2xNG_h3wz-hS"
      },
      "outputs": [
        {
          "name": "stdout",
          "output_type": "stream",
          "text": [
            "Rows: 2126\n",
            "Columns: 22\n"
          ]
        }
      ],
      "source": [
        "### Your code for 1.1(d) goes here ###\n",
        "print(\"Rows:\", fetal_df.shape[0])\n",
        "print(\"Columns:\", fetal_df.shape[1])\n",
        "\n",
        "\n",
        "#for col in fetal_df.columns:\n",
        "#    unique_vals = pd.unique(fetal_df[col])\n",
        "#    if len(unique_vals) < 9:\n",
        "#        print(f\"Column: {col}, Unique values: {len(unique_vals)} Values: {unique_vals}\")\n"
      ]
    },
    {
      "cell_type": "markdown",
      "metadata": {
        "id": "Jy00M5wcz-hS"
      },
      "source": [
        "#### (e)"
      ]
    },
    {
      "cell_type": "markdown",
      "metadata": {
        "id": "TfEQY5rUt2fd"
      },
      "source": [
        "Each row of fetal_df dataframe can be termed as a datapoint, sample, or observation."
      ]
    },
    {
      "cell_type": "markdown",
      "metadata": {
        "id": "sv2CGUT8uFX3"
      },
      "source": [
        "#### (f)"
      ]
    },
    {
      "cell_type": "markdown",
      "metadata": {
        "id": "tKhYMGeDuLax"
      },
      "source": [
        "There are 2126 samples in this dataset "
      ]
    },
    {
      "cell_type": "markdown",
      "metadata": {
        "id": "N0TPsxCauZJ6"
      },
      "source": [
        "#### (g)"
      ]
    },
    {
      "cell_type": "markdown",
      "metadata": {
        "id": "KXYePFTTubbg"
      },
      "source": [
        "There are a total of 21 Independent variables in this dataset. They are listed below:\n",
        "\n",
        "baseline value  \n",
        "accelerations  \n",
        "fetal_movement  \n",
        "uterine_contractions  \n",
        "light_decelerations  \n",
        "severe_decelerations  \n",
        "prolongued_decelerations  \n",
        "abnormal_short_term_variability  \n",
        "mean_value_of_short_term_variability  \n",
        "percentage_of_time_with_abnormal_long_term_variability  \n",
        "mean_value_of_long_term_variability  \n",
        "histogram_width  \n",
        "histogram_min  \n",
        "histogram_max  \n",
        "histogram_number_of_peaks  \n",
        "histogram_number_of_zeroes  \n",
        "histogram_mode  \n",
        "histogram_mean  \n",
        "histogram_median  \n",
        "histogram_variance  \n",
        "histogram_tendency  \n"
      ]
    },
    {
      "cell_type": "markdown",
      "metadata": {
        "id": "hTwCZxwFuhZs"
      },
      "source": [
        "#### (h)"
      ]
    },
    {
      "cell_type": "markdown",
      "metadata": {
        "id": "URok105CuhHF"
      },
      "source": [
        "There is 1 Dependent variable in this data set which is 'fetal_health'"
      ]
    },
    {
      "cell_type": "markdown",
      "metadata": {
        "id": "5XeG2MZFup3y"
      },
      "source": [
        "#### (i)"
      ]
    },
    {
      "cell_type": "markdown",
      "metadata": {
        "id": "5tt7ikfNupvv"
      },
      "source": [
        "n = 2126\n",
        "\n",
        "p = 21"
      ]
    },
    {
      "cell_type": "markdown",
      "metadata": {
        "id": "BOeDxdYOupk-"
      },
      "source": [
        "#### (j)"
      ]
    },
    {
      "cell_type": "markdown",
      "metadata": {
        "id": "A1IqEbduupbQ"
      },
      "source": [
        "n = 2126\n",
        "\n",
        "p = 1"
      ]
    },
    {
      "cell_type": "markdown",
      "metadata": {
        "id": "gLVO6JSHupOE"
      },
      "source": [
        "#### (k)"
      ]
    },
    {
      "cell_type": "markdown",
      "metadata": {
        "id": "AHbPBjDsuo6j"
      },
      "source": [
        "I believe that most of the data in the dataset has been pre-processed into transformed features. While there are a few variables that may represent raw sensor data, such as 'baseline value' and 'fetal_movement', the majority of the columns suggest that the data has undergone some form of pre-processing. For example, the various histogram features (like min, max, median, mode, mean, and variance) are not raw sensor outputs but derived features that must be extracted through statistical calculations based on the sensor data."
      ]
    },
    {
      "cell_type": "markdown",
      "metadata": {
        "id": "ps849tTTu74M"
      },
      "source": [
        "#### (l)"
      ]
    },
    {
      "cell_type": "markdown",
      "metadata": {
        "id": "240_-4A5u8oB"
      },
      "source": [
        "There are a total of 2 categorical variables in the dataset which are 'histogram_tendency' and 'fetal_health'.  \n",
        "I figured this out by using the pandas.unique() function and filtered for variables with less than 10 unique values.  \n",
        "'histogram_tendency' only had 3 unique values which were {-1, 0, 1}, which refered to negative, neutral, and positive tendencies respectivley which are ordinal categories.  \n",
        "'fetal_health' also only had 3 unique values which were {1, 2, 3}, which refered to normal, suspect, and pathological which are nominal categories."
      ]
    },
    {
      "cell_type": "markdown",
      "metadata": {
        "id": "avTEhBQLvMtw"
      },
      "source": [
        "#### (m)"
      ]
    },
    {
      "cell_type": "markdown",
      "metadata": {
        "id": "r1psH--XvMV8"
      },
      "source": [
        "histogram_tendency: Ordinal encoding {-1, 0, 1}  \n",
        "fetal_health: Nominal encoding {1, 2, 3}"
      ]
    },
    {
      "cell_type": "markdown",
      "metadata": {
        "id": "qVW9ov3kvMRj"
      },
      "source": [
        "#### (n)"
      ]
    },
    {
      "cell_type": "code",
      "execution_count": 8,
      "metadata": {
        "id": "zV2P8n4pvUQT"
      },
      "outputs": [
        {
          "name": "stdout",
          "output_type": "stream",
          "text": [
            "There are 1655 samples with normal health condition.\n",
            "There are 295 samples with suspect health condition.\n",
            "There are 176 samples with pathological health condition.\n"
          ]
        }
      ],
      "source": [
        "normal = 0\n",
        "suspect = 0\n",
        "pathological = 0\n",
        "error = 0\n",
        "\n",
        "for sample in fetal_df.itertuples():\n",
        "    if sample.fetal_health == 1: normal += 1\n",
        "    elif sample.fetal_health == 2: suspect += 1\n",
        "    elif sample.fetal_health == 3: pathological += 1\n",
        "    else: error += 1\n",
        "\n",
        "print(f\"There are {normal} samples with normal health condition.\")\n",
        "print(f\"There are {suspect} samples with suspect health condition.\")\n",
        "print(f\"There are {pathological} samples with pathological health condition.\")"
      ]
    },
    {
      "cell_type": "markdown",
      "metadata": {
        "id": "z8lTzSQFwqI1"
      },
      "source": [
        "## **Dirty Dataset**"
      ]
    },
    {
      "cell_type": "code",
      "execution_count": 9,
      "metadata": {
        "id": "hAMx9uwbw8rV"
      },
      "outputs": [],
      "source": [
        "# load the dirty dataset csv file into a pandas dataframe\n",
        "fetal_dirty_df = pd.read_csv('fetal_health_dataset_dirty.csv')"
      ]
    },
    {
      "cell_type": "markdown",
      "metadata": {
        "id": "nOJPywDYz-hT"
      },
      "source": [
        "### Problem 1.2"
      ]
    },
    {
      "cell_type": "markdown",
      "metadata": {
        "id": "UTf6Yiqjz-hT"
      },
      "source": [
        "#### (a)"
      ]
    },
    {
      "cell_type": "code",
      "execution_count": 10,
      "metadata": {
        "id": "qOPVMIawz-hU"
      },
      "outputs": [
        {
          "name": "stdout",
          "output_type": "stream",
          "text": [
            "True\n"
          ]
        }
      ],
      "source": [
        "# Outputs a series labeling columns with NaN values True, and False otherwise\n",
        "NaN_by_column = fetal_dirty_df.isna().any()\n",
        "# Checks if there is a True in the Series\n",
        "print(NaN_by_column.any())"
      ]
    },
    {
      "cell_type": "markdown",
      "metadata": {
        "id": "CrZQxH5hz-hU"
      },
      "source": [
        "#### (b)"
      ]
    },
    {
      "cell_type": "code",
      "execution_count": 11,
      "metadata": {
        "id": "ESSjRnLCz-hU"
      },
      "outputs": [
        {
          "data": {
            "text/plain": [
              "baseline value                                            47\n",
              "percentage_of_time_with_abnormal_long_term_variability    10\n",
              "histogram_max                                             24\n",
              "histogram_mode                                             5\n",
              "dtype: int64"
            ]
          },
          "metadata": {},
          "output_type": "display_data"
        }
      ],
      "source": [
        "\n",
        "num_of_missing_values = fetal_dirty_df.isna().sum()\n",
        "cols_missing_values = num_of_missing_values[num_of_missing_values > 0]\n",
        "display(cols_missing_values)\n"
      ]
    },
    {
      "cell_type": "markdown",
      "metadata": {
        "id": "hWh95Fiyz-hU"
      },
      "source": [
        "#### (c)"
      ]
    },
    {
      "cell_type": "code",
      "execution_count": 12,
      "metadata": {
        "id": "VZ9EtxC-z-hV"
      },
      "outputs": [
        {
          "name": "stdout",
          "output_type": "stream",
          "text": [
            "Number of samples with missing values:  86\n"
          ]
        }
      ],
      "source": [
        "print(\"Number of samples with missing values: \", fetal_dirty_df.isna().any(axis=1).sum())"
      ]
    },
    {
      "cell_type": "markdown",
      "metadata": {
        "id": "OYDjQvfFxnQw"
      },
      "source": [
        "### Problem 1.3"
      ]
    },
    {
      "cell_type": "code",
      "execution_count": 13,
      "metadata": {
        "id": "5YCLwVJuxrXG"
      },
      "outputs": [],
      "source": [
        "\n",
        "fetal_dirty_df['baseline value'] = np.where(\n",
        "    (fetal_dirty_df['baseline value'] < 110) | \n",
        "    (fetal_dirty_df['baseline value'] > 160), \n",
        "    np.nan, fetal_dirty_df['baseline value'])\n",
        "\n",
        "fetal_dirty_df['accelerations'] = np.where(\n",
        "    (fetal_dirty_df['accelerations'] < 0) | \n",
        "    (fetal_dirty_df['accelerations'] > 0.02), \n",
        "    np.nan, fetal_dirty_df['accelerations'])\n",
        "\n",
        "fetal_dirty_df['fetal_movement'] = np.where(\n",
        "    (fetal_dirty_df['fetal_movement'] < 0.001) | \n",
        "    (fetal_dirty_df['fetal_movement'] > 0.005), \n",
        "    np.nan, fetal_dirty_df['fetal_movement'])\n",
        "\n",
        "fetal_dirty_df['uterine_contractions'] = np.where(\n",
        "    (fetal_dirty_df['uterine_contractions'] < 0) | \n",
        "    (fetal_dirty_df['uterine_contractions'] > 0.01), \n",
        "    np.nan, fetal_dirty_df['uterine_contractions'])\n",
        "\n",
        "fetal_dirty_df['light_decelerations'] = np.where(\n",
        "    (fetal_dirty_df['light_decelerations'] < 0) | \n",
        "    (fetal_dirty_df['light_decelerations'] > 0.01), \n",
        "    np.nan, fetal_dirty_df['light_decelerations'])\n",
        "\n",
        "fetal_dirty_df['severe_decelerations'] = np.where(\n",
        "    (fetal_dirty_df['severe_decelerations'] < 0) | \n",
        "    (fetal_dirty_df['severe_decelerations'] > 0.01), \n",
        "    np.nan, fetal_dirty_df['severe_decelerations'])\n",
        "\n",
        "fetal_dirty_df['prolongued_decelerations'] = np.where(\n",
        "    (fetal_dirty_df['prolongued_decelerations'] < 0) | \n",
        "    (fetal_dirty_df['prolongued_decelerations'] > 0.01), \n",
        "    np.nan, fetal_dirty_df['prolongued_decelerations'])\n",
        "\n",
        "fetal_dirty_df['abnormal_short_term_variability'] = np.where(\n",
        "    (fetal_dirty_df['abnormal_short_term_variability'] < 10) | \n",
        "    (fetal_dirty_df['abnormal_short_term_variability'] > 90), \n",
        "    np.nan, fetal_dirty_df['abnormal_short_term_variability'])\n",
        "\n",
        "fetal_dirty_df['mean_value_of_short_term_variability'] = np.where(\n",
        "    (fetal_dirty_df['mean_value_of_short_term_variability'] < 0.2) | \n",
        "    (fetal_dirty_df['mean_value_of_short_term_variability'] > 5), \n",
        "    np.nan, fetal_dirty_df['mean_value_of_short_term_variability'])\n",
        "\n",
        "fetal_dirty_df['percentage_of_time_with_abnormal_long_term_variability'] = np.where(\n",
        "    (fetal_dirty_df['percentage_of_time_with_abnormal_long_term_variability'] < 0) | \n",
        "    (fetal_dirty_df['percentage_of_time_with_abnormal_long_term_variability'] > 80), \n",
        "    np.nan, fetal_dirty_df['percentage_of_time_with_abnormal_long_term_variability'])\n",
        "\n",
        "fetal_dirty_df['mean_value_of_long_term_variability'] = np.where(\n",
        "    (fetal_dirty_df['mean_value_of_long_term_variability'] < 0) | \n",
        "    (fetal_dirty_df['mean_value_of_long_term_variability'] > 35), \n",
        "    np.nan, fetal_dirty_df['mean_value_of_long_term_variability'])\n",
        "\n",
        "fetal_dirty_df['histogram_width'] = np.where(\n",
        "    fetal_dirty_df['histogram_width'] < 0, \n",
        "    np.nan, fetal_dirty_df['histogram_width'])\n",
        "\n",
        "fetal_dirty_df['histogram_min'] = np.where(\n",
        "    fetal_dirty_df['histogram_min'] < 50, \n",
        "    np.nan, fetal_dirty_df['histogram_min'])\n",
        "\n",
        "fetal_dirty_df['histogram_max'] = np.where(\n",
        "    fetal_dirty_df['histogram_max'] < 0, \n",
        "    np.nan, fetal_dirty_df['histogram_max'])\n",
        "\n",
        "fetal_dirty_df['histogram_number_of_peaks'] = np.where(\n",
        "    (fetal_dirty_df['histogram_number_of_peaks'] < 0) | \n",
        "    (fetal_dirty_df['histogram_number_of_peaks'] % 1 != 0), \n",
        "    np.nan, fetal_dirty_df['histogram_number_of_peaks'])\n",
        "\n",
        "fetal_dirty_df['histogram_number_of_zeroes'] = np.where(\n",
        "    (fetal_dirty_df['histogram_number_of_zeroes'] < 0) | \n",
        "    (fetal_dirty_df['histogram_number_of_zeroes'] % 1 != 0), \n",
        "    np.nan, fetal_dirty_df['histogram_number_of_zeroes'])\n",
        "\n",
        "fetal_dirty_df['histogram_mode'] = np.where(\n",
        "    fetal_dirty_df['histogram_mode'] < 0, \n",
        "    np.nan, fetal_dirty_df['histogram_mode'])\n",
        "\n",
        "fetal_dirty_df['histogram_mean'] = np.where(\n",
        "    fetal_dirty_df['histogram_mean'] < 0, \n",
        "    np.nan, fetal_dirty_df['histogram_mean'])\n",
        "\n",
        "fetal_dirty_df['histogram_median'] = np.where(\n",
        "    fetal_dirty_df['histogram_median'] < 0, \n",
        "    np.nan, fetal_dirty_df['histogram_median'])\n",
        "\n",
        "fetal_dirty_df['histogram_variance'] = np.where(\n",
        "    fetal_dirty_df['histogram_variance'] < 0, \n",
        "    np.nan, fetal_dirty_df['histogram_variance'])\n",
        "\n",
        "fetal_dirty_df['histogram_tendency'] = np.where(\n",
        "    ~fetal_dirty_df['histogram_tendency'].isin([-1, 0, 1]), \n",
        "    np.nan, fetal_dirty_df['histogram_tendency'])\n",
        "\n",
        "\n"
      ]
    },
    {
      "cell_type": "markdown",
      "metadata": {
        "id": "OqxjckzSz-hV"
      },
      "source": [
        "### Problem 1.4"
      ]
    },
    {
      "cell_type": "code",
      "execution_count": 14,
      "metadata": {
        "id": "IPw21Smex-cV"
      },
      "outputs": [
        {
          "data": {
            "text/html": [
              "<div>\n",
              "<style scoped>\n",
              "    .dataframe tbody tr th:only-of-type {\n",
              "        vertical-align: middle;\n",
              "    }\n",
              "\n",
              "    .dataframe tbody tr th {\n",
              "        vertical-align: top;\n",
              "    }\n",
              "\n",
              "    .dataframe thead th {\n",
              "        text-align: right;\n",
              "    }\n",
              "</style>\n",
              "<table border=\"1\" class=\"dataframe\">\n",
              "  <thead>\n",
              "    <tr style=\"text-align: right;\">\n",
              "      <th></th>\n",
              "      <th>baseline value</th>\n",
              "      <th>accelerations</th>\n",
              "      <th>fetal_movement</th>\n",
              "      <th>uterine_contractions</th>\n",
              "      <th>light_decelerations</th>\n",
              "      <th>severe_decelerations</th>\n",
              "      <th>prolongued_decelerations</th>\n",
              "      <th>abnormal_short_term_variability</th>\n",
              "      <th>mean_value_of_short_term_variability</th>\n",
              "      <th>percentage_of_time_with_abnormal_long_term_variability</th>\n",
              "      <th>mean_value_of_long_term_variability</th>\n",
              "      <th>histogram_width</th>\n",
              "      <th>histogram_min</th>\n",
              "      <th>histogram_max</th>\n",
              "      <th>histogram_number_of_peaks</th>\n",
              "      <th>histogram_number_of_zeroes</th>\n",
              "      <th>histogram_mode</th>\n",
              "      <th>histogram_mean</th>\n",
              "      <th>histogram_median</th>\n",
              "      <th>histogram_variance</th>\n",
              "      <th>histogram_tendency</th>\n",
              "      <th>fetal_health</th>\n",
              "    </tr>\n",
              "  </thead>\n",
              "  <tbody>\n",
              "    <tr>\n",
              "      <th>0</th>\n",
              "      <td>-1.375981</td>\n",
              "      <td>-0.822195</td>\n",
              "      <td>NaN</td>\n",
              "      <td>-1.509123</td>\n",
              "      <td>-0.652153</td>\n",
              "      <td>-0.057462</td>\n",
              "      <td>-0.268691</td>\n",
              "      <td>1.512834</td>\n",
              "      <td>-0.987334</td>\n",
              "      <td>1.990433</td>\n",
              "      <td>-1.058237</td>\n",
              "      <td>-0.165468</td>\n",
              "      <td>-1.068311</td>\n",
              "      <td>-2.126422</td>\n",
              "      <td>-0.701232</td>\n",
              "      <td>-0.458336</td>\n",
              "      <td>-1.064163</td>\n",
              "      <td>0.153234</td>\n",
              "      <td>-1.181364</td>\n",
              "      <td>1.870129</td>\n",
              "      <td>1.0</td>\n",
              "      <td>2</td>\n",
              "    </tr>\n",
              "    <tr>\n",
              "      <th>1</th>\n",
              "      <td>-0.142088</td>\n",
              "      <td>0.729961</td>\n",
              "      <td>NaN</td>\n",
              "      <td>0.619849</td>\n",
              "      <td>0.517903</td>\n",
              "      <td>-0.057462</td>\n",
              "      <td>-0.268691</td>\n",
              "      <td>-1.744341</td>\n",
              "      <td>0.965863</td>\n",
              "      <td>-0.536373</td>\n",
              "      <td>0.424445</td>\n",
              "      <td>1.528765</td>\n",
              "      <td>-0.865335</td>\n",
              "      <td>1.890418</td>\n",
              "      <td>0.654983</td>\n",
              "      <td>0.957976</td>\n",
              "      <td>0.216611</td>\n",
              "      <td>0.089105</td>\n",
              "      <td>0.132007</td>\n",
              "      <td>-0.234943</td>\n",
              "      <td>0.0</td>\n",
              "      <td>1</td>\n",
              "    </tr>\n",
              "    <tr>\n",
              "      <th>2</th>\n",
              "      <td>-0.039264</td>\n",
              "      <td>-0.046117</td>\n",
              "      <td>NaN</td>\n",
              "      <td>1.329506</td>\n",
              "      <td>0.517903</td>\n",
              "      <td>-0.057462</td>\n",
              "      <td>-0.268691</td>\n",
              "      <td>-1.802504</td>\n",
              "      <td>0.965863</td>\n",
              "      <td>-0.536373</td>\n",
              "      <td>0.980450</td>\n",
              "      <td>1.528765</td>\n",
              "      <td>-0.865335</td>\n",
              "      <td>1.890418</td>\n",
              "      <td>0.315929</td>\n",
              "      <td>0.957976</td>\n",
              "      <td>0.216611</td>\n",
              "      <td>0.024976</td>\n",
              "      <td>-0.006243</td>\n",
              "      <td>-0.200434</td>\n",
              "      <td>0.0</td>\n",
              "      <td>1</td>\n",
              "    </tr>\n",
              "    <tr>\n",
              "      <th>3</th>\n",
              "      <td>0.063561</td>\n",
              "      <td>-0.046117</td>\n",
              "      <td>NaN</td>\n",
              "      <td>1.329506</td>\n",
              "      <td>0.517903</td>\n",
              "      <td>-0.057462</td>\n",
              "      <td>-0.268691</td>\n",
              "      <td>-1.802504</td>\n",
              "      <td>1.332087</td>\n",
              "      <td>-0.536373</td>\n",
              "      <td>2.759669</td>\n",
              "      <td>1.195052</td>\n",
              "      <td>-1.372774</td>\n",
              "      <td>0.328314</td>\n",
              "      <td>2.350251</td>\n",
              "      <td>-0.458336</td>\n",
              "      <td>-0.027346</td>\n",
              "      <td>-0.039153</td>\n",
              "      <td>-0.075367</td>\n",
              "      <td>-0.200434</td>\n",
              "      <td>1.0</td>\n",
              "      <td>1</td>\n",
              "    </tr>\n",
              "    <tr>\n",
              "      <th>4</th>\n",
              "      <td>-0.142088</td>\n",
              "      <td>0.988654</td>\n",
              "      <td>NaN</td>\n",
              "      <td>1.329506</td>\n",
              "      <td>-0.652153</td>\n",
              "      <td>-0.057462</td>\n",
              "      <td>-0.268691</td>\n",
              "      <td>-1.802504</td>\n",
              "      <td>1.332087</td>\n",
              "      <td>-0.536373</td>\n",
              "      <td>2.185129</td>\n",
              "      <td>1.195052</td>\n",
              "      <td>-1.372774</td>\n",
              "      <td>0.328314</td>\n",
              "      <td>1.672144</td>\n",
              "      <td>-0.458336</td>\n",
              "      <td>-0.027346</td>\n",
              "      <td>0.089105</td>\n",
              "      <td>-0.006243</td>\n",
              "      <td>-0.269452</td>\n",
              "      <td>1.0</td>\n",
              "      <td>1</td>\n",
              "    </tr>\n",
              "    <tr>\n",
              "      <th>5</th>\n",
              "      <td>0.063561</td>\n",
              "      <td>-0.563502</td>\n",
              "      <td>NaN</td>\n",
              "      <td>2.039164</td>\n",
              "      <td>2.858015</td>\n",
              "      <td>-0.057462</td>\n",
              "      <td>3.121441</td>\n",
              "      <td>-1.220866</td>\n",
              "      <td>NaN</td>\n",
              "      <td>-0.536373</td>\n",
              "      <td>-1.503042</td>\n",
              "      <td>2.042169</td>\n",
              "      <td>-1.474262</td>\n",
              "      <td>2.001997</td>\n",
              "      <td>0.315929</td>\n",
              "      <td>3.790598</td>\n",
              "      <td>-3.747689</td>\n",
              "      <td>-1.770633</td>\n",
              "      <td>-2.149111</td>\n",
              "      <td>5.217538</td>\n",
              "      <td>0.0</td>\n",
              "      <td>3</td>\n",
              "    </tr>\n",
              "    <tr>\n",
              "      <th>6</th>\n",
              "      <td>0.063561</td>\n",
              "      <td>-0.563502</td>\n",
              "      <td>NaN</td>\n",
              "      <td>NaN</td>\n",
              "      <td>2.467996</td>\n",
              "      <td>-0.057462</td>\n",
              "      <td>4.816507</td>\n",
              "      <td>-1.046375</td>\n",
              "      <td>NaN</td>\n",
              "      <td>-0.536373</td>\n",
              "      <td>-1.503042</td>\n",
              "      <td>2.042169</td>\n",
              "      <td>-1.474262</td>\n",
              "      <td>2.001997</td>\n",
              "      <td>0.654983</td>\n",
              "      <td>3.790598</td>\n",
              "      <td>-4.052635</td>\n",
              "      <td>-1.770633</td>\n",
              "      <td>-2.218236</td>\n",
              "      <td>6.770459</td>\n",
              "      <td>0.0</td>\n",
              "      <td>3</td>\n",
              "    </tr>\n",
              "    <tr>\n",
              "      <th>7</th>\n",
              "      <td>-1.170332</td>\n",
              "      <td>-0.822195</td>\n",
              "      <td>NaN</td>\n",
              "      <td>-1.509123</td>\n",
              "      <td>-0.652153</td>\n",
              "      <td>-0.057462</td>\n",
              "      <td>-0.268691</td>\n",
              "      <td>2.094473</td>\n",
              "      <td>-0.987334</td>\n",
              "      <td>-0.183795</td>\n",
              "      <td>1.388188</td>\n",
              "      <td>-0.062787</td>\n",
              "      <td>-1.068311</td>\n",
              "      <td>-1.903264</td>\n",
              "      <td>-1.379339</td>\n",
              "      <td>-0.458336</td>\n",
              "      <td>-0.942184</td>\n",
              "      <td>-0.808700</td>\n",
              "      <td>-1.043115</td>\n",
              "      <td>-0.545527</td>\n",
              "      <td>1.0</td>\n",
              "      <td>3</td>\n",
              "    </tr>\n",
              "    <tr>\n",
              "      <th>8</th>\n",
              "      <td>-1.170332</td>\n",
              "      <td>-0.822195</td>\n",
              "      <td>NaN</td>\n",
              "      <td>-0.799466</td>\n",
              "      <td>-0.652153</td>\n",
              "      <td>-0.057462</td>\n",
              "      <td>-0.268691</td>\n",
              "      <td>2.152636</td>\n",
              "      <td>-0.987334</td>\n",
              "      <td>-0.242558</td>\n",
              "      <td>1.017518</td>\n",
              "      <td>-0.062787</td>\n",
              "      <td>-1.068311</td>\n",
              "      <td>-1.903264</td>\n",
              "      <td>-1.379339</td>\n",
              "      <td>-0.458336</td>\n",
              "      <td>-0.942184</td>\n",
              "      <td>-0.808700</td>\n",
              "      <td>-1.043115</td>\n",
              "      <td>-0.545527</td>\n",
              "      <td>1.0</td>\n",
              "      <td>3</td>\n",
              "    </tr>\n",
              "    <tr>\n",
              "      <th>9</th>\n",
              "      <td>-1.170332</td>\n",
              "      <td>-0.822195</td>\n",
              "      <td>NaN</td>\n",
              "      <td>-0.444637</td>\n",
              "      <td>-0.652153</td>\n",
              "      <td>-0.057462</td>\n",
              "      <td>-0.268691</td>\n",
              "      <td>2.268964</td>\n",
              "      <td>-1.231484</td>\n",
              "      <td>-0.183795</td>\n",
              "      <td>0.461512</td>\n",
              "      <td>-0.062787</td>\n",
              "      <td>-1.068311</td>\n",
              "      <td>-1.903264</td>\n",
              "      <td>-1.040286</td>\n",
              "      <td>-0.458336</td>\n",
              "      <td>-0.942184</td>\n",
              "      <td>-0.808700</td>\n",
              "      <td>-1.043115</td>\n",
              "      <td>-0.614546</td>\n",
              "      <td>1.0</td>\n",
              "      <td>3</td>\n",
              "    </tr>\n",
              "    <tr>\n",
              "      <th>10</th>\n",
              "      <td>1.811576</td>\n",
              "      <td>-0.822195</td>\n",
              "      <td>NaN</td>\n",
              "      <td>-1.154295</td>\n",
              "      <td>-0.262135</td>\n",
              "      <td>-0.057462</td>\n",
              "      <td>-0.268691</td>\n",
              "      <td>0.989360</td>\n",
              "      <td>0.721713</td>\n",
              "      <td>-0.007506</td>\n",
              "      <td>3.612211</td>\n",
              "      <td>1.528765</td>\n",
              "      <td>-1.271286</td>\n",
              "      <td>1.220945</td>\n",
              "      <td>-0.701232</td>\n",
              "      <td>-0.458336</td>\n",
              "      <td>0.765514</td>\n",
              "      <td>0.858651</td>\n",
              "      <td>0.892380</td>\n",
              "      <td>-0.338471</td>\n",
              "      <td>1.0</td>\n",
              "      <td>2</td>\n",
              "    </tr>\n",
              "    <tr>\n",
              "      <th>11</th>\n",
              "      <td>1.708751</td>\n",
              "      <td>-0.822195</td>\n",
              "      <td>NaN</td>\n",
              "      <td>-1.154295</td>\n",
              "      <td>-0.262135</td>\n",
              "      <td>-0.057462</td>\n",
              "      <td>-0.268691</td>\n",
              "      <td>0.989360</td>\n",
              "      <td>0.843788</td>\n",
              "      <td>-0.066269</td>\n",
              "      <td>3.964348</td>\n",
              "      <td>1.528765</td>\n",
              "      <td>-1.271286</td>\n",
              "      <td>1.220945</td>\n",
              "      <td>0.315929</td>\n",
              "      <td>-0.458336</td>\n",
              "      <td>0.765514</td>\n",
              "      <td>0.858651</td>\n",
              "      <td>0.892380</td>\n",
              "      <td>-0.303962</td>\n",
              "      <td>1.0</td>\n",
              "      <td>2</td>\n",
              "    </tr>\n",
              "    <tr>\n",
              "      <th>12</th>\n",
              "      <td>-0.244913</td>\n",
              "      <td>0.471268</td>\n",
              "      <td>NaN</td>\n",
              "      <td>1.329506</td>\n",
              "      <td>0.517903</td>\n",
              "      <td>-0.057462</td>\n",
              "      <td>-0.268691</td>\n",
              "      <td>-1.104538</td>\n",
              "      <td>0.111339</td>\n",
              "      <td>-0.536373</td>\n",
              "      <td>0.887783</td>\n",
              "      <td>-0.114127</td>\n",
              "      <td>-0.188750</td>\n",
              "      <td>-0.564317</td>\n",
              "      <td>0.315929</td>\n",
              "      <td>-0.458336</td>\n",
              "      <td>-0.149324</td>\n",
              "      <td>-0.039153</td>\n",
              "      <td>-0.075367</td>\n",
              "      <td>-0.407490</td>\n",
              "      <td>1.0</td>\n",
              "      <td>1</td>\n",
              "    </tr>\n",
              "    <tr>\n",
              "      <th>13</th>\n",
              "      <td>-0.244913</td>\n",
              "      <td>1.506039</td>\n",
              "      <td>NaN</td>\n",
              "      <td>0.619849</td>\n",
              "      <td>0.127884</td>\n",
              "      <td>-0.057462</td>\n",
              "      <td>-0.268691</td>\n",
              "      <td>-1.104538</td>\n",
              "      <td>0.233414</td>\n",
              "      <td>-0.536373</td>\n",
              "      <td>-0.502231</td>\n",
              "      <td>0.424947</td>\n",
              "      <td>-0.763847</td>\n",
              "      <td>-0.341160</td>\n",
              "      <td>-0.701232</td>\n",
              "      <td>-0.458336</td>\n",
              "      <td>0.216611</td>\n",
              "      <td>0.153234</td>\n",
              "      <td>0.201132</td>\n",
              "      <td>-0.303962</td>\n",
              "      <td>1.0</td>\n",
              "      <td>1</td>\n",
              "    </tr>\n",
              "    <tr>\n",
              "      <th>14</th>\n",
              "      <td>-0.347737</td>\n",
              "      <td>0.729961</td>\n",
              "      <td>NaN</td>\n",
              "      <td>-0.089809</td>\n",
              "      <td>1.297940</td>\n",
              "      <td>-0.057462</td>\n",
              "      <td>1.426375</td>\n",
              "      <td>-1.511685</td>\n",
              "      <td>1.210013</td>\n",
              "      <td>-0.536373</td>\n",
              "      <td>-0.038893</td>\n",
              "      <td>0.938350</td>\n",
              "      <td>-0.899164</td>\n",
              "      <td>0.551472</td>\n",
              "      <td>0.994036</td>\n",
              "      <td>-0.458336</td>\n",
              "      <td>0.338589</td>\n",
              "      <td>-0.616313</td>\n",
              "      <td>-0.213617</td>\n",
              "      <td>1.973657</td>\n",
              "      <td>0.0</td>\n",
              "      <td>1</td>\n",
              "    </tr>\n",
              "    <tr>\n",
              "      <th>15</th>\n",
              "      <td>-0.347737</td>\n",
              "      <td>0.729961</td>\n",
              "      <td>NaN</td>\n",
              "      <td>-0.089809</td>\n",
              "      <td>0.907922</td>\n",
              "      <td>-0.057462</td>\n",
              "      <td>1.426375</td>\n",
              "      <td>-1.628013</td>\n",
              "      <td>1.210013</td>\n",
              "      <td>-0.536373</td>\n",
              "      <td>0.109375</td>\n",
              "      <td>0.938350</td>\n",
              "      <td>-0.899164</td>\n",
              "      <td>0.551472</td>\n",
              "      <td>-0.362178</td>\n",
              "      <td>-0.458336</td>\n",
              "      <td>-0.210314</td>\n",
              "      <td>-0.488055</td>\n",
              "      <td>-0.351867</td>\n",
              "      <td>0.834848</td>\n",
              "      <td>0.0</td>\n",
              "      <td>1</td>\n",
              "    </tr>\n",
              "    <tr>\n",
              "      <th>16</th>\n",
              "      <td>-0.347737</td>\n",
              "      <td>0.729961</td>\n",
              "      <td>NaN</td>\n",
              "      <td>0.265020</td>\n",
              "      <td>1.297940</td>\n",
              "      <td>-0.057462</td>\n",
              "      <td>-0.268691</td>\n",
              "      <td>-1.337194</td>\n",
              "      <td>0.965863</td>\n",
              "      <td>-0.536373</td>\n",
              "      <td>0.517112</td>\n",
              "      <td>1.400414</td>\n",
              "      <td>-1.372774</td>\n",
              "      <td>0.774629</td>\n",
              "      <td>0.315929</td>\n",
              "      <td>-0.458336</td>\n",
              "      <td>0.338589</td>\n",
              "      <td>-0.423926</td>\n",
              "      <td>-0.006243</td>\n",
              "      <td>1.766601</td>\n",
              "      <td>1.0</td>\n",
              "      <td>1</td>\n",
              "    </tr>\n",
              "    <tr>\n",
              "      <th>17</th>\n",
              "      <td>-0.244913</td>\n",
              "      <td>-0.304810</td>\n",
              "      <td>NaN</td>\n",
              "      <td>-0.444637</td>\n",
              "      <td>1.297940</td>\n",
              "      <td>-0.057462</td>\n",
              "      <td>3.121441</td>\n",
              "      <td>-1.686177</td>\n",
              "      <td>1.332087</td>\n",
              "      <td>-0.536373</td>\n",
              "      <td>1.073118</td>\n",
              "      <td>0.938350</td>\n",
              "      <td>-0.899164</td>\n",
              "      <td>0.551472</td>\n",
              "      <td>0.315929</td>\n",
              "      <td>-0.458336</td>\n",
              "      <td>-0.210314</td>\n",
              "      <td>-0.616313</td>\n",
              "      <td>-0.420991</td>\n",
              "      <td>0.903866</td>\n",
              "      <td>0.0</td>\n",
              "      <td>2</td>\n",
              "    </tr>\n",
              "    <tr>\n",
              "      <th>18</th>\n",
              "      <td>-0.347737</td>\n",
              "      <td>-0.046117</td>\n",
              "      <td>NaN</td>\n",
              "      <td>0.619849</td>\n",
              "      <td>0.907922</td>\n",
              "      <td>-0.057462</td>\n",
              "      <td>1.426375</td>\n",
              "      <td>-1.395358</td>\n",
              "      <td>0.721713</td>\n",
              "      <td>-0.536373</td>\n",
              "      <td>0.127908</td>\n",
              "      <td>0.732989</td>\n",
              "      <td>-1.169799</td>\n",
              "      <td>-0.341160</td>\n",
              "      <td>0.654983</td>\n",
              "      <td>-0.458336</td>\n",
              "      <td>-0.271303</td>\n",
              "      <td>-0.680442</td>\n",
              "      <td>-0.628366</td>\n",
              "      <td>0.593282</td>\n",
              "      <td>1.0</td>\n",
              "      <td>1</td>\n",
              "    </tr>\n",
              "    <tr>\n",
              "      <th>19</th>\n",
              "      <td>-0.347737</td>\n",
              "      <td>0.471268</td>\n",
              "      <td>NaN</td>\n",
              "      <td>0.265020</td>\n",
              "      <td>0.907922</td>\n",
              "      <td>-0.057462</td>\n",
              "      <td>1.426375</td>\n",
              "      <td>-1.046375</td>\n",
              "      <td>0.477564</td>\n",
              "      <td>-0.536373</td>\n",
              "      <td>-0.057427</td>\n",
              "      <td>1.066701</td>\n",
              "      <td>-0.966823</td>\n",
              "      <td>0.718840</td>\n",
              "      <td>0.654983</td>\n",
              "      <td>0.957976</td>\n",
              "      <td>-0.271303</td>\n",
              "      <td>-0.359797</td>\n",
              "      <td>-0.351867</td>\n",
              "      <td>0.282698</td>\n",
              "      <td>0.0</td>\n",
              "      <td>1</td>\n",
              "    </tr>\n",
              "  </tbody>\n",
              "</table>\n",
              "</div>"
            ],
            "text/plain": [
              "    baseline value  accelerations  fetal_movement  uterine_contractions  \\\n",
              "0        -1.375981      -0.822195             NaN             -1.509123   \n",
              "1        -0.142088       0.729961             NaN              0.619849   \n",
              "2        -0.039264      -0.046117             NaN              1.329506   \n",
              "3         0.063561      -0.046117             NaN              1.329506   \n",
              "4        -0.142088       0.988654             NaN              1.329506   \n",
              "5         0.063561      -0.563502             NaN              2.039164   \n",
              "6         0.063561      -0.563502             NaN                   NaN   \n",
              "7        -1.170332      -0.822195             NaN             -1.509123   \n",
              "8        -1.170332      -0.822195             NaN             -0.799466   \n",
              "9        -1.170332      -0.822195             NaN             -0.444637   \n",
              "10        1.811576      -0.822195             NaN             -1.154295   \n",
              "11        1.708751      -0.822195             NaN             -1.154295   \n",
              "12       -0.244913       0.471268             NaN              1.329506   \n",
              "13       -0.244913       1.506039             NaN              0.619849   \n",
              "14       -0.347737       0.729961             NaN             -0.089809   \n",
              "15       -0.347737       0.729961             NaN             -0.089809   \n",
              "16       -0.347737       0.729961             NaN              0.265020   \n",
              "17       -0.244913      -0.304810             NaN             -0.444637   \n",
              "18       -0.347737      -0.046117             NaN              0.619849   \n",
              "19       -0.347737       0.471268             NaN              0.265020   \n",
              "\n",
              "    light_decelerations  severe_decelerations  prolongued_decelerations  \\\n",
              "0             -0.652153             -0.057462                 -0.268691   \n",
              "1              0.517903             -0.057462                 -0.268691   \n",
              "2              0.517903             -0.057462                 -0.268691   \n",
              "3              0.517903             -0.057462                 -0.268691   \n",
              "4             -0.652153             -0.057462                 -0.268691   \n",
              "5              2.858015             -0.057462                  3.121441   \n",
              "6              2.467996             -0.057462                  4.816507   \n",
              "7             -0.652153             -0.057462                 -0.268691   \n",
              "8             -0.652153             -0.057462                 -0.268691   \n",
              "9             -0.652153             -0.057462                 -0.268691   \n",
              "10            -0.262135             -0.057462                 -0.268691   \n",
              "11            -0.262135             -0.057462                 -0.268691   \n",
              "12             0.517903             -0.057462                 -0.268691   \n",
              "13             0.127884             -0.057462                 -0.268691   \n",
              "14             1.297940             -0.057462                  1.426375   \n",
              "15             0.907922             -0.057462                  1.426375   \n",
              "16             1.297940             -0.057462                 -0.268691   \n",
              "17             1.297940             -0.057462                  3.121441   \n",
              "18             0.907922             -0.057462                  1.426375   \n",
              "19             0.907922             -0.057462                  1.426375   \n",
              "\n",
              "    abnormal_short_term_variability  mean_value_of_short_term_variability  \\\n",
              "0                          1.512834                             -0.987334   \n",
              "1                         -1.744341                              0.965863   \n",
              "2                         -1.802504                              0.965863   \n",
              "3                         -1.802504                              1.332087   \n",
              "4                         -1.802504                              1.332087   \n",
              "5                         -1.220866                                   NaN   \n",
              "6                         -1.046375                                   NaN   \n",
              "7                          2.094473                             -0.987334   \n",
              "8                          2.152636                             -0.987334   \n",
              "9                          2.268964                             -1.231484   \n",
              "10                         0.989360                              0.721713   \n",
              "11                         0.989360                              0.843788   \n",
              "12                        -1.104538                              0.111339   \n",
              "13                        -1.104538                              0.233414   \n",
              "14                        -1.511685                              1.210013   \n",
              "15                        -1.628013                              1.210013   \n",
              "16                        -1.337194                              0.965863   \n",
              "17                        -1.686177                              1.332087   \n",
              "18                        -1.395358                              0.721713   \n",
              "19                        -1.046375                              0.477564   \n",
              "\n",
              "    percentage_of_time_with_abnormal_long_term_variability  \\\n",
              "0                                            1.990433        \n",
              "1                                           -0.536373        \n",
              "2                                           -0.536373        \n",
              "3                                           -0.536373        \n",
              "4                                           -0.536373        \n",
              "5                                           -0.536373        \n",
              "6                                           -0.536373        \n",
              "7                                           -0.183795        \n",
              "8                                           -0.242558        \n",
              "9                                           -0.183795        \n",
              "10                                          -0.007506        \n",
              "11                                          -0.066269        \n",
              "12                                          -0.536373        \n",
              "13                                          -0.536373        \n",
              "14                                          -0.536373        \n",
              "15                                          -0.536373        \n",
              "16                                          -0.536373        \n",
              "17                                          -0.536373        \n",
              "18                                          -0.536373        \n",
              "19                                          -0.536373        \n",
              "\n",
              "    mean_value_of_long_term_variability  histogram_width  histogram_min  \\\n",
              "0                             -1.058237        -0.165468      -1.068311   \n",
              "1                              0.424445         1.528765      -0.865335   \n",
              "2                              0.980450         1.528765      -0.865335   \n",
              "3                              2.759669         1.195052      -1.372774   \n",
              "4                              2.185129         1.195052      -1.372774   \n",
              "5                             -1.503042         2.042169      -1.474262   \n",
              "6                             -1.503042         2.042169      -1.474262   \n",
              "7                              1.388188        -0.062787      -1.068311   \n",
              "8                              1.017518        -0.062787      -1.068311   \n",
              "9                              0.461512        -0.062787      -1.068311   \n",
              "10                             3.612211         1.528765      -1.271286   \n",
              "11                             3.964348         1.528765      -1.271286   \n",
              "12                             0.887783        -0.114127      -0.188750   \n",
              "13                            -0.502231         0.424947      -0.763847   \n",
              "14                            -0.038893         0.938350      -0.899164   \n",
              "15                             0.109375         0.938350      -0.899164   \n",
              "16                             0.517112         1.400414      -1.372774   \n",
              "17                             1.073118         0.938350      -0.899164   \n",
              "18                             0.127908         0.732989      -1.169799   \n",
              "19                            -0.057427         1.066701      -0.966823   \n",
              "\n",
              "    histogram_max  histogram_number_of_peaks  histogram_number_of_zeroes  \\\n",
              "0       -2.126422                  -0.701232                   -0.458336   \n",
              "1        1.890418                   0.654983                    0.957976   \n",
              "2        1.890418                   0.315929                    0.957976   \n",
              "3        0.328314                   2.350251                   -0.458336   \n",
              "4        0.328314                   1.672144                   -0.458336   \n",
              "5        2.001997                   0.315929                    3.790598   \n",
              "6        2.001997                   0.654983                    3.790598   \n",
              "7       -1.903264                  -1.379339                   -0.458336   \n",
              "8       -1.903264                  -1.379339                   -0.458336   \n",
              "9       -1.903264                  -1.040286                   -0.458336   \n",
              "10       1.220945                  -0.701232                   -0.458336   \n",
              "11       1.220945                   0.315929                   -0.458336   \n",
              "12      -0.564317                   0.315929                   -0.458336   \n",
              "13      -0.341160                  -0.701232                   -0.458336   \n",
              "14       0.551472                   0.994036                   -0.458336   \n",
              "15       0.551472                  -0.362178                   -0.458336   \n",
              "16       0.774629                   0.315929                   -0.458336   \n",
              "17       0.551472                   0.315929                   -0.458336   \n",
              "18      -0.341160                   0.654983                   -0.458336   \n",
              "19       0.718840                   0.654983                    0.957976   \n",
              "\n",
              "    histogram_mode  histogram_mean  histogram_median  histogram_variance  \\\n",
              "0        -1.064163        0.153234         -1.181364            1.870129   \n",
              "1         0.216611        0.089105          0.132007           -0.234943   \n",
              "2         0.216611        0.024976         -0.006243           -0.200434   \n",
              "3        -0.027346       -0.039153         -0.075367           -0.200434   \n",
              "4        -0.027346        0.089105         -0.006243           -0.269452   \n",
              "5        -3.747689       -1.770633         -2.149111            5.217538   \n",
              "6        -4.052635       -1.770633         -2.218236            6.770459   \n",
              "7        -0.942184       -0.808700         -1.043115           -0.545527   \n",
              "8        -0.942184       -0.808700         -1.043115           -0.545527   \n",
              "9        -0.942184       -0.808700         -1.043115           -0.614546   \n",
              "10        0.765514        0.858651          0.892380           -0.338471   \n",
              "11        0.765514        0.858651          0.892380           -0.303962   \n",
              "12       -0.149324       -0.039153         -0.075367           -0.407490   \n",
              "13        0.216611        0.153234          0.201132           -0.303962   \n",
              "14        0.338589       -0.616313         -0.213617            1.973657   \n",
              "15       -0.210314       -0.488055         -0.351867            0.834848   \n",
              "16        0.338589       -0.423926         -0.006243            1.766601   \n",
              "17       -0.210314       -0.616313         -0.420991            0.903866   \n",
              "18       -0.271303       -0.680442         -0.628366            0.593282   \n",
              "19       -0.271303       -0.359797         -0.351867            0.282698   \n",
              "\n",
              "    histogram_tendency  fetal_health  \n",
              "0                  1.0             2  \n",
              "1                  0.0             1  \n",
              "2                  0.0             1  \n",
              "3                  1.0             1  \n",
              "4                  1.0             1  \n",
              "5                  0.0             3  \n",
              "6                  0.0             3  \n",
              "7                  1.0             3  \n",
              "8                  1.0             3  \n",
              "9                  1.0             3  \n",
              "10                 1.0             2  \n",
              "11                 1.0             2  \n",
              "12                 1.0             1  \n",
              "13                 1.0             1  \n",
              "14                 0.0             1  \n",
              "15                 0.0             1  \n",
              "16                 1.0             1  \n",
              "17                 0.0             2  \n",
              "18                 1.0             1  \n",
              "19                 0.0             1  "
            ]
          },
          "metadata": {},
          "output_type": "display_data"
        }
      ],
      "source": [
        "\n",
        "def zero_mean_and_unit_variance(df, cols_to_exclude):\n",
        "    df.loc[:, df.columns.difference(cols_to_exclude)] = df.loc[:, df.columns.difference(cols_to_exclude)].apply(lambda x: (x - x.mean()) / x.std())\n",
        "\n",
        "\n",
        "categorical_cols = ['histogram_tendency','fetal_health']\n",
        "zero_mean_and_unit_variance(fetal_dirty_df, categorical_cols)\n",
        "\n",
        "display(fetal_dirty_df.head(20))\n",
        "\n"
      ]
    },
    {
      "cell_type": "markdown",
      "metadata": {
        "id": "bgxDFuA3z-hW"
      },
      "source": [
        "### Problem 1.5"
      ]
    },
    {
      "cell_type": "code",
      "execution_count": 15,
      "metadata": {
        "id": "-0v14ybDz-hW"
      },
      "outputs": [],
      "source": [
        "fetal_dirty_df = fetal_dirty_df.groupby('fetal_health').apply(lambda group: group.fillna(group.median()))"
      ]
    },
    {
      "cell_type": "markdown",
      "metadata": {
        "id": "RRrpdSTJyGt1"
      },
      "source": [
        "### Problem 1.6"
      ]
    },
    {
      "cell_type": "code",
      "execution_count": 16,
      "metadata": {
        "id": "Ctwd0h7XyG8k"
      },
      "outputs": [],
      "source": [
        "one_hot_encoded = pd.get_dummies(fetal_dirty_df, columns=['fetal_health'], prefix='fetal_health')\n",
        "\n",
        "one_hot_encoded.to_csv('fetal_heatlh_dataset_processed.csv', index=False)"
      ]
    },
    {
      "cell_type": "markdown",
      "metadata": {
        "id": "E8hZzOSvymHL"
      },
      "source": [
        "# **2. Heart Failure Prediction Dataset**"
      ]
    },
    {
      "cell_type": "markdown",
      "metadata": {
        "id": "5YpfhDVMymHM"
      },
      "source": [
        "## Problem 2.1"
      ]
    },
    {
      "cell_type": "code",
      "execution_count": 17,
      "metadata": {
        "id": "xD1GcvD4ymHM"
      },
      "outputs": [],
      "source": [
        "# load the dataset csv file into a pandas dataframe\n",
        "heart_df = pd.read_csv('heart_failure_clinical_records_dataset.csv')\n"
      ]
    },
    {
      "cell_type": "markdown",
      "metadata": {
        "id": "1EQWwLbvymHN"
      },
      "source": [
        "### (a)"
      ]
    },
    {
      "cell_type": "markdown",
      "metadata": {
        "id": "6GkRt8w6ymHN"
      },
      "source": [
        "I believe that this is a supervised machine learning task. This is because we are given a label called 'DEATH_EVENT' which is described as \"If the patient deceased during the follow-up period (boolean)\". "
      ]
    },
    {
      "cell_type": "markdown",
      "metadata": {
        "id": "T5HoKdioymHN"
      },
      "source": [
        "### (b)"
      ]
    },
    {
      "cell_type": "code",
      "execution_count": 18,
      "metadata": {
        "id": "xUGIEmzYymHN"
      },
      "outputs": [
        {
          "name": "stdout",
          "output_type": "stream",
          "text": [
            "Axes: [RangeIndex(start=0, stop=299, step=1), Index(['age', 'anaemia', 'creatinine_phosphokinase', 'diabetes',\n",
            "       'ejection_fraction', 'high_blood_pressure', 'platelets',\n",
            "       'serum_creatinine', 'serum_sodium', 'sex', 'smoking', 'time',\n",
            "       'DEATH_EVENT'],\n",
            "      dtype='object')]\n",
            "-----------------------------------------------------------------------------------\n",
            "Data types:\n"
          ]
        },
        {
          "data": {
            "text/plain": [
              "age                         float64\n",
              "anaemia                       int64\n",
              "creatinine_phosphokinase      int64\n",
              "diabetes                      int64\n",
              "ejection_fraction             int64\n",
              "high_blood_pressure           int64\n",
              "platelets                   float64\n",
              "serum_creatinine            float64\n",
              "serum_sodium                  int64\n",
              "sex                           int64\n",
              "smoking                       int64\n",
              "time                          int64\n",
              "DEATH_EVENT                   int64\n",
              "dtype: object"
            ]
          },
          "metadata": {},
          "output_type": "display_data"
        }
      ],
      "source": [
        "print(\"Axes:\", heart_df.axes)\n",
        "print(\"-----------------------------------------------------------------------------------\")\n",
        "print(\"Data types:\")\n",
        "display(heart_df.dtypes)"
      ]
    },
    {
      "cell_type": "markdown",
      "metadata": {
        "id": "TGHAoXfMymHO"
      },
      "source": [
        "### (c)\n",
        "\n"
      ]
    },
    {
      "cell_type": "code",
      "execution_count": 19,
      "metadata": {
        "id": "ItDMYWoFymHO"
      },
      "outputs": [
        {
          "data": {
            "text/html": [
              "<div>\n",
              "<style scoped>\n",
              "    .dataframe tbody tr th:only-of-type {\n",
              "        vertical-align: middle;\n",
              "    }\n",
              "\n",
              "    .dataframe tbody tr th {\n",
              "        vertical-align: top;\n",
              "    }\n",
              "\n",
              "    .dataframe thead th {\n",
              "        text-align: right;\n",
              "    }\n",
              "</style>\n",
              "<table border=\"1\" class=\"dataframe\">\n",
              "  <thead>\n",
              "    <tr style=\"text-align: right;\">\n",
              "      <th></th>\n",
              "      <th>age</th>\n",
              "      <th>anaemia</th>\n",
              "      <th>creatinine_phosphokinase</th>\n",
              "      <th>diabetes</th>\n",
              "      <th>ejection_fraction</th>\n",
              "      <th>high_blood_pressure</th>\n",
              "      <th>platelets</th>\n",
              "      <th>serum_creatinine</th>\n",
              "      <th>serum_sodium</th>\n",
              "      <th>sex</th>\n",
              "      <th>smoking</th>\n",
              "      <th>time</th>\n",
              "      <th>DEATH_EVENT</th>\n",
              "    </tr>\n",
              "  </thead>\n",
              "  <tbody>\n",
              "    <tr>\n",
              "      <th>0</th>\n",
              "      <td>75.0</td>\n",
              "      <td>0</td>\n",
              "      <td>582</td>\n",
              "      <td>0</td>\n",
              "      <td>20</td>\n",
              "      <td>1</td>\n",
              "      <td>265000.00</td>\n",
              "      <td>1.9</td>\n",
              "      <td>130</td>\n",
              "      <td>1</td>\n",
              "      <td>0</td>\n",
              "      <td>4</td>\n",
              "      <td>1</td>\n",
              "    </tr>\n",
              "    <tr>\n",
              "      <th>1</th>\n",
              "      <td>55.0</td>\n",
              "      <td>0</td>\n",
              "      <td>7861</td>\n",
              "      <td>0</td>\n",
              "      <td>38</td>\n",
              "      <td>0</td>\n",
              "      <td>263358.03</td>\n",
              "      <td>1.1</td>\n",
              "      <td>136</td>\n",
              "      <td>1</td>\n",
              "      <td>0</td>\n",
              "      <td>6</td>\n",
              "      <td>1</td>\n",
              "    </tr>\n",
              "    <tr>\n",
              "      <th>2</th>\n",
              "      <td>65.0</td>\n",
              "      <td>0</td>\n",
              "      <td>146</td>\n",
              "      <td>0</td>\n",
              "      <td>20</td>\n",
              "      <td>0</td>\n",
              "      <td>162000.00</td>\n",
              "      <td>1.3</td>\n",
              "      <td>129</td>\n",
              "      <td>1</td>\n",
              "      <td>1</td>\n",
              "      <td>7</td>\n",
              "      <td>1</td>\n",
              "    </tr>\n",
              "    <tr>\n",
              "      <th>3</th>\n",
              "      <td>50.0</td>\n",
              "      <td>1</td>\n",
              "      <td>111</td>\n",
              "      <td>0</td>\n",
              "      <td>20</td>\n",
              "      <td>0</td>\n",
              "      <td>210000.00</td>\n",
              "      <td>1.9</td>\n",
              "      <td>137</td>\n",
              "      <td>1</td>\n",
              "      <td>0</td>\n",
              "      <td>7</td>\n",
              "      <td>1</td>\n",
              "    </tr>\n",
              "    <tr>\n",
              "      <th>4</th>\n",
              "      <td>65.0</td>\n",
              "      <td>1</td>\n",
              "      <td>160</td>\n",
              "      <td>1</td>\n",
              "      <td>20</td>\n",
              "      <td>0</td>\n",
              "      <td>327000.00</td>\n",
              "      <td>2.7</td>\n",
              "      <td>116</td>\n",
              "      <td>0</td>\n",
              "      <td>0</td>\n",
              "      <td>8</td>\n",
              "      <td>1</td>\n",
              "    </tr>\n",
              "    <tr>\n",
              "      <th>5</th>\n",
              "      <td>90.0</td>\n",
              "      <td>1</td>\n",
              "      <td>47</td>\n",
              "      <td>0</td>\n",
              "      <td>40</td>\n",
              "      <td>1</td>\n",
              "      <td>204000.00</td>\n",
              "      <td>2.1</td>\n",
              "      <td>132</td>\n",
              "      <td>1</td>\n",
              "      <td>1</td>\n",
              "      <td>8</td>\n",
              "      <td>1</td>\n",
              "    </tr>\n",
              "    <tr>\n",
              "      <th>6</th>\n",
              "      <td>75.0</td>\n",
              "      <td>1</td>\n",
              "      <td>246</td>\n",
              "      <td>0</td>\n",
              "      <td>15</td>\n",
              "      <td>0</td>\n",
              "      <td>127000.00</td>\n",
              "      <td>1.2</td>\n",
              "      <td>137</td>\n",
              "      <td>1</td>\n",
              "      <td>0</td>\n",
              "      <td>10</td>\n",
              "      <td>1</td>\n",
              "    </tr>\n",
              "    <tr>\n",
              "      <th>7</th>\n",
              "      <td>60.0</td>\n",
              "      <td>1</td>\n",
              "      <td>315</td>\n",
              "      <td>1</td>\n",
              "      <td>60</td>\n",
              "      <td>0</td>\n",
              "      <td>454000.00</td>\n",
              "      <td>1.1</td>\n",
              "      <td>131</td>\n",
              "      <td>1</td>\n",
              "      <td>1</td>\n",
              "      <td>10</td>\n",
              "      <td>1</td>\n",
              "    </tr>\n",
              "    <tr>\n",
              "      <th>8</th>\n",
              "      <td>65.0</td>\n",
              "      <td>0</td>\n",
              "      <td>157</td>\n",
              "      <td>0</td>\n",
              "      <td>65</td>\n",
              "      <td>0</td>\n",
              "      <td>263358.03</td>\n",
              "      <td>1.5</td>\n",
              "      <td>138</td>\n",
              "      <td>0</td>\n",
              "      <td>0</td>\n",
              "      <td>10</td>\n",
              "      <td>1</td>\n",
              "    </tr>\n",
              "    <tr>\n",
              "      <th>9</th>\n",
              "      <td>80.0</td>\n",
              "      <td>1</td>\n",
              "      <td>123</td>\n",
              "      <td>0</td>\n",
              "      <td>35</td>\n",
              "      <td>1</td>\n",
              "      <td>388000.00</td>\n",
              "      <td>9.4</td>\n",
              "      <td>133</td>\n",
              "      <td>1</td>\n",
              "      <td>1</td>\n",
              "      <td>10</td>\n",
              "      <td>1</td>\n",
              "    </tr>\n",
              "  </tbody>\n",
              "</table>\n",
              "</div>"
            ],
            "text/plain": [
              "    age  anaemia  creatinine_phosphokinase  diabetes  ejection_fraction  \\\n",
              "0  75.0        0                       582         0                 20   \n",
              "1  55.0        0                      7861         0                 38   \n",
              "2  65.0        0                       146         0                 20   \n",
              "3  50.0        1                       111         0                 20   \n",
              "4  65.0        1                       160         1                 20   \n",
              "5  90.0        1                        47         0                 40   \n",
              "6  75.0        1                       246         0                 15   \n",
              "7  60.0        1                       315         1                 60   \n",
              "8  65.0        0                       157         0                 65   \n",
              "9  80.0        1                       123         0                 35   \n",
              "\n",
              "   high_blood_pressure  platelets  serum_creatinine  serum_sodium  sex  \\\n",
              "0                    1  265000.00               1.9           130    1   \n",
              "1                    0  263358.03               1.1           136    1   \n",
              "2                    0  162000.00               1.3           129    1   \n",
              "3                    0  210000.00               1.9           137    1   \n",
              "4                    0  327000.00               2.7           116    0   \n",
              "5                    1  204000.00               2.1           132    1   \n",
              "6                    0  127000.00               1.2           137    1   \n",
              "7                    0  454000.00               1.1           131    1   \n",
              "8                    0  263358.03               1.5           138    0   \n",
              "9                    1  388000.00               9.4           133    1   \n",
              "\n",
              "   smoking  time  DEATH_EVENT  \n",
              "0        0     4            1  \n",
              "1        0     6            1  \n",
              "2        1     7            1  \n",
              "3        0     7            1  \n",
              "4        0     8            1  \n",
              "5        1     8            1  \n",
              "6        0    10            1  \n",
              "7        1    10            1  \n",
              "8        0    10            1  \n",
              "9        1    10            1  "
            ]
          },
          "metadata": {},
          "output_type": "display_data"
        }
      ],
      "source": [
        "display(heart_df.head(10))"
      ]
    },
    {
      "cell_type": "markdown",
      "metadata": {
        "id": "7kNl2WpSymHO"
      },
      "source": [
        "### (d)"
      ]
    },
    {
      "cell_type": "code",
      "execution_count": 20,
      "metadata": {
        "id": "AblNbsncymHO"
      },
      "outputs": [
        {
          "name": "stdout",
          "output_type": "stream",
          "text": [
            "Rows: 299\n",
            "Columns: 13\n"
          ]
        }
      ],
      "source": [
        "print(\"Rows:\", heart_df.shape[0])\n",
        "print(\"Columns:\", heart_df.shape[1])"
      ]
    },
    {
      "cell_type": "markdown",
      "metadata": {
        "id": "xuh9-lN7ymHP"
      },
      "source": [
        "### (e)"
      ]
    },
    {
      "cell_type": "markdown",
      "metadata": {
        "id": "tL9qHIJXymHP"
      },
      "source": [
        "There are 299 samples in this dataset."
      ]
    },
    {
      "cell_type": "markdown",
      "metadata": {
        "id": "csN1zEzLymHP"
      },
      "source": [
        "### (f)"
      ]
    },
    {
      "cell_type": "markdown",
      "metadata": {
        "id": "a0HNj-AyymHP"
      },
      "source": [
        "There are 12 independent variables in this dataset, which are:  \n",
        "age  \n",
        "anaemia  \n",
        "creatinine_phosphokinase  \n",
        "diabetes  \n",
        "ejection_fraction  \n",
        "high_blood_pressure  \n",
        "platelets  \n",
        "serum_creatinine  \n",
        "serum_sodium  \n",
        "sex  \n",
        "smoking  \n",
        "time  \n"
      ]
    },
    {
      "cell_type": "markdown",
      "metadata": {
        "id": "Ayov9je2ymHQ"
      },
      "source": [
        "### (g)"
      ]
    },
    {
      "cell_type": "markdown",
      "metadata": {
        "id": "B4E676ygymHQ"
      },
      "source": [
        "There is 1 dependent variable in this dataset which is:  \n",
        "DEATH_EVENT"
      ]
    },
    {
      "cell_type": "markdown",
      "metadata": {
        "id": "a8Bo-uKXymHQ"
      },
      "source": [
        "### (h)"
      ]
    },
    {
      "cell_type": "markdown",
      "metadata": {
        "id": "3gxnjWUgymHQ"
      },
      "source": [
        "n = 299  \n",
        "p = 12"
      ]
    },
    {
      "cell_type": "markdown",
      "metadata": {
        "id": "G9BxqfsbymHQ"
      },
      "source": [
        "### (i)"
      ]
    },
    {
      "cell_type": "markdown",
      "metadata": {
        "id": "2bXh4Av6ymHR"
      },
      "source": [
        "n = 299  \n",
        "m = 1"
      ]
    },
    {
      "cell_type": "markdown",
      "metadata": {
        "id": "OzpMBV2cymHR"
      },
      "source": [
        "### (j)"
      ]
    },
    {
      "cell_type": "code",
      "execution_count": 21,
      "metadata": {
        "id": "CM0kJiNMzftk"
      },
      "outputs": [
        {
          "name": "stdout",
          "output_type": "stream",
          "text": [
            "Column: anaemia, Unique values: 2 Values: [0 1]\n",
            "Column: diabetes, Unique values: 2 Values: [0 1]\n",
            "Column: high_blood_pressure, Unique values: 2 Values: [1 0]\n",
            "Column: sex, Unique values: 2 Values: [1 0]\n",
            "Column: smoking, Unique values: 2 Values: [0 1]\n",
            "Column: DEATH_EVENT, Unique values: 2 Values: [1 0]\n"
          ]
        }
      ],
      "source": [
        "for col in heart_df.columns:\n",
        "    unique_vals = pd.unique(heart_df[col])\n",
        "    if len(unique_vals) < 10:\n",
        "        print(f\"Column: {col}, Unique values: {len(unique_vals)} Values: {unique_vals}\")\n"
      ]
    },
    {
      "cell_type": "markdown",
      "metadata": {
        "id": "1tX1-uIgymHR"
      },
      "source": [
        "There are a total of 6 categorical variables which are:\n",
        "anaemia  \n",
        "diabetes  \n",
        "high_blood_pressure  \n",
        "sex  \n",
        "smoking  \n",
        "DEATH_EVENT  \n",
        "\n",
        "These are all categorical variables since they all are basically yes or no questions, ie binary answers either 1 or 0. The only one that is not a yes or no question is 'sex', this is still categorical as they define sex as either woman or man.  "
      ]
    },
    {
      "cell_type": "markdown",
      "metadata": {
        "id": "2BBhe25UymHR"
      },
      "source": [
        "### (k)"
      ]
    },
    {
      "cell_type": "markdown",
      "metadata": {
        "id": "PNxn1zIzymHR"
      },
      "source": [
        "They all follow Ordinal binary encoding {0, 1}"
      ]
    },
    {
      "cell_type": "markdown",
      "metadata": {
        "id": "e9TnxUb3ymHR"
      },
      "source": [
        "### (l)"
      ]
    },
    {
      "cell_type": "code",
      "execution_count": 22,
      "metadata": {
        "id": "KUfiYo3lymHS"
      },
      "outputs": [
        {
          "name": "stdout",
          "output_type": "stream",
          "text": [
            "Number of samples that correspond to patients that have died are: 96\n",
            "Number of samples that correspond to patients that have not died are: 203\n"
          ]
        }
      ],
      "source": [
        "print('Number of samples that correspond to patients that have died are:', heart_df['DEATH_EVENT'].value_counts()[1])\n",
        "print('Number of samples that correspond to patients that have not died are:', heart_df['DEATH_EVENT'].value_counts()[0])\n"
      ]
    },
    {
      "cell_type": "markdown",
      "metadata": {
        "id": "VlxMlRziymHS"
      },
      "source": [
        "### (m)"
      ]
    },
    {
      "cell_type": "code",
      "execution_count": 23,
      "metadata": {
        "id": "Kp2yCXJ-z3Gh"
      },
      "outputs": [
        {
          "name": "stdout",
          "output_type": "stream",
          "text": [
            "The description does not specify which binary input corresponds to which sex; \n",
            "however after looking at comments under the dataset people are saying that \n",
            "1 corresponds to male patients while 0 corresponds to Women patients; \n",
            "Therefore using that assumption we get that:\n",
            "\n",
            "Number of samples that correspond to Women patients are: 105\n",
            "Number of samples that correspond to Men patients are: 194\n"
          ]
        }
      ],
      "source": [
        "print('The description does not specify which binary input corresponds to which sex; \\nhowever after looking at comments under the dataset people are saying that \\n1 corresponds to male patients while 0 corresponds to Women patients; \\nTherefore using that assumption we get that:')\n",
        "print('\\nNumber of samples that correspond to Women patients are:', heart_df['sex'].value_counts()[0])\n",
        "print('Number of samples that correspond to Men patients are:', heart_df['sex'].value_counts()[1])"
      ]
    },
    {
      "cell_type": "markdown",
      "metadata": {
        "id": "S-53k2x3ymHS"
      },
      "source": [
        "### (n)"
      ]
    },
    {
      "cell_type": "code",
      "execution_count": 24,
      "metadata": {
        "id": "emwfFgVAymHT"
      },
      "outputs": [
        {
          "name": "stdout",
          "output_type": "stream",
          "text": [
            "Number of Samples that correspond to smokers are: 96\n",
            "Number of Samples that correspond to non-smokers are: 203\n"
          ]
        }
      ],
      "source": [
        "print('Number of Samples that correspond to smokers are:', heart_df['smoking'].value_counts()[1])\n",
        "print('Number of Samples that correspond to non-smokers are:', heart_df['smoking'].value_counts()[0])\n"
      ]
    },
    {
      "cell_type": "markdown",
      "metadata": {
        "id": "FpQWnOOpymHT"
      },
      "source": [
        "## Problem 2.2"
      ]
    },
    {
      "cell_type": "code",
      "execution_count": 25,
      "metadata": {
        "id": "QmAtpjMiymHU"
      },
      "outputs": [],
      "source": [
        "pd.reset_option('display.max_rows')\n",
        "\n",
        "heart_df['age'] = np.where(\n",
        "    (heart_df['age'] < 0) | \n",
        "    (heart_df['age'] > 122) | \n",
        "    (heart_df['age'].apply(lambda x: (not pd.isnull(x)) and (x != int(x)))), # Need to check if null first because you cast int() on NaN values\n",
        "    np.nan, heart_df['age']\n",
        ")\n",
        "\n",
        "\n",
        "heart_df['anaemia'] = np.where(\n",
        "    (heart_df['anaemia'] != 0) & \n",
        "    (heart_df['anaemia'] != 1),\n",
        "    np.nan, heart_df['anaemia']\n",
        ")\n",
        "\n",
        "heart_df['creatinine_phosphokinase'] = np.where(\n",
        "    (heart_df['creatinine_phosphokinase'] <= 0) |\n",
        "    (heart_df['creatinine_phosphokinase'] > 5000),\n",
        "    np.nan, heart_df['creatinine_phosphokinase']\n",
        ")\n",
        "\n",
        "heart_df['diabetes'] = np.where(\n",
        "    (heart_df['diabetes'] != 0) & \n",
        "    (heart_df['diabetes'] != 1),\n",
        "    np.nan, heart_df['diabetes']\n",
        ")\n",
        "\n",
        "heart_df['ejection_fraction'] = np.where(\n",
        "    (heart_df['ejection_fraction'] < 15) |\n",
        "    (heart_df['ejection_fraction'] > 75),\n",
        "    np.nan, heart_df['ejection_fraction']\n",
        ")\n",
        "\n",
        "heart_df['high_blood_pressure'] = np.where(\n",
        "    (heart_df['high_blood_pressure'] != 0) & \n",
        "    (heart_df['high_blood_pressure'] != 1),\n",
        "    np.nan, heart_df['high_blood_pressure']\n",
        ")\n",
        "\n",
        "heart_df['platelets'] = np.where(\n",
        "    (heart_df['platelets'] < 10) | \n",
        "    (heart_df['platelets'] > 1000000),\n",
        "    np.nan, heart_df['platelets']\n",
        ")\n",
        "\n",
        "heart_df['serum_creatinine'] = np.where(\n",
        "    (heart_df['serum_creatinine'] < 0.5) | \n",
        "    (heart_df['serum_creatinine'] > 10),\n",
        "    np.nan, heart_df['serum_creatinine']\n",
        ")\n",
        "\n",
        "heart_df['serum_sodium'] = np.where(\n",
        "    (heart_df['serum_sodium'] < 120) | \n",
        "    (heart_df['serum_sodium'] > 155),\n",
        "    np.nan, heart_df['serum_sodium']\n",
        ")\n",
        "\n",
        "heart_df['sex'] = np.where(\n",
        "    (heart_df['sex'] != 0) & \n",
        "    (heart_df['sex'] != 1),\n",
        "    np.nan, heart_df['sex']\n",
        ")\n",
        "\n",
        "heart_df['smoking'] = np.where(\n",
        "    (heart_df['smoking'] != 0) & \n",
        "    (heart_df['smoking'] != 1),\n",
        "    np.nan, heart_df['smoking']\n",
        ")\n",
        "\n",
        "heart_df['time'] = np.where(\n",
        "    (heart_df['time'] < 0),\n",
        "    np.nan, heart_df['time']\n",
        ")\n",
        "\n",
        "heart_df['smoking'] = np.where(\n",
        "    (heart_df['smoking'] != 0) & \n",
        "    (heart_df['smoking'] != 1),\n",
        "    np.nan, heart_df['smoking']\n",
        ")\n",
        "\n",
        "\n"
      ]
    },
    {
      "cell_type": "markdown",
      "metadata": {
        "id": "it9WyiZiymHU"
      },
      "source": [
        "age: Got rid of negative ages as well as values that are not integers since age should be an integer. Also got rid of ages greater than 122 since the oldest person to live died at 122.  \n",
        "\n",
        "creatinine_phosphokinase: Got rid of negative values as negative values for this variable does not make sense. Also found that the normal range of this value is from 20 - 2000 so I got rid of values larger than 5000 considering that this dataset contains people who have died.\n",
        "\n",
        "ejection_fraction: Got rid of values below 15% and above 75% as those values may indicate an error in the equipment.\n",
        "\n",
        "platelets: Numbers outside of the range of 10 - 100k is most likely equipment error.\n",
        "\n",
        "serum_creatinine: Numbers outside of the range of 0.5 - 10 is most likely equipment error.\n",
        "\n",
        "serum_sodium: Numbers outside of the range of 120 - 155 is most likely equipment error.\n",
        "\n",
        "time: Numbers less than 0 does not make sense for this.\n",
        "\n",
        "The rest of the variables are binary categorical data, so I replaced values that are not 0 or 1 with NaN.\n",
        "\n",
        "\n",
        " \n",
        "\n"
      ]
    },
    {
      "cell_type": "markdown",
      "metadata": {
        "id": "6fqh4x4FymHV"
      },
      "source": [
        "## Problem 2.3"
      ]
    },
    {
      "cell_type": "code",
      "execution_count": 26,
      "metadata": {
        "id": "gMs526ezymHV"
      },
      "outputs": [
        {
          "data": {
            "text/html": [
              "<div>\n",
              "<style scoped>\n",
              "    .dataframe tbody tr th:only-of-type {\n",
              "        vertical-align: middle;\n",
              "    }\n",
              "\n",
              "    .dataframe tbody tr th {\n",
              "        vertical-align: top;\n",
              "    }\n",
              "\n",
              "    .dataframe thead th {\n",
              "        text-align: right;\n",
              "    }\n",
              "</style>\n",
              "<table border=\"1\" class=\"dataframe\">\n",
              "  <thead>\n",
              "    <tr style=\"text-align: right;\">\n",
              "      <th></th>\n",
              "      <th>age</th>\n",
              "      <th>anaemia</th>\n",
              "      <th>creatinine_phosphokinase</th>\n",
              "      <th>diabetes</th>\n",
              "      <th>ejection_fraction</th>\n",
              "      <th>high_blood_pressure</th>\n",
              "      <th>platelets</th>\n",
              "      <th>serum_creatinine</th>\n",
              "      <th>serum_sodium</th>\n",
              "      <th>sex</th>\n",
              "      <th>smoking</th>\n",
              "      <th>time</th>\n",
              "      <th>DEATH_EVENT</th>\n",
              "    </tr>\n",
              "  </thead>\n",
              "  <tbody>\n",
              "    <tr>\n",
              "      <th>0</th>\n",
              "      <td>1.186852</td>\n",
              "      <td>0.0</td>\n",
              "      <td>0.126530</td>\n",
              "      <td>0.0</td>\n",
              "      <td>-1.562190</td>\n",
              "      <td>1.0</td>\n",
              "      <td>1.678834e-02</td>\n",
              "      <td>0.489237</td>\n",
              "      <td>-1.680195</td>\n",
              "      <td>1.0</td>\n",
              "      <td>0.0</td>\n",
              "      <td>-1.626775</td>\n",
              "      <td>1</td>\n",
              "    </tr>\n",
              "    <tr>\n",
              "      <th>1</th>\n",
              "      <td>-0.488903</td>\n",
              "      <td>0.0</td>\n",
              "      <td>NaN</td>\n",
              "      <td>0.0</td>\n",
              "      <td>-0.002043</td>\n",
              "      <td>0.0</td>\n",
              "      <td>7.523047e-09</td>\n",
              "      <td>-0.284076</td>\n",
              "      <td>-0.192070</td>\n",
              "      <td>1.0</td>\n",
              "      <td>0.0</td>\n",
              "      <td>-1.601007</td>\n",
              "      <td>1</td>\n",
              "    </tr>\n",
              "    <tr>\n",
              "      <th>2</th>\n",
              "      <td>0.348975</td>\n",
              "      <td>0.0</td>\n",
              "      <td>-0.541160</td>\n",
              "      <td>0.0</td>\n",
              "      <td>-1.562190</td>\n",
              "      <td>0.0</td>\n",
              "      <td>-1.036336e+00</td>\n",
              "      <td>-0.090748</td>\n",
              "      <td>-1.928216</td>\n",
              "      <td>1.0</td>\n",
              "      <td>1.0</td>\n",
              "      <td>-1.588122</td>\n",
              "      <td>1</td>\n",
              "    </tr>\n",
              "    <tr>\n",
              "      <th>3</th>\n",
              "      <td>-0.907842</td>\n",
              "      <td>1.0</td>\n",
              "      <td>-0.594759</td>\n",
              "      <td>0.0</td>\n",
              "      <td>-1.562190</td>\n",
              "      <td>0.0</td>\n",
              "      <td>-5.455595e-01</td>\n",
              "      <td>0.489237</td>\n",
              "      <td>0.055951</td>\n",
              "      <td>1.0</td>\n",
              "      <td>0.0</td>\n",
              "      <td>-1.588122</td>\n",
              "      <td>1</td>\n",
              "    </tr>\n",
              "    <tr>\n",
              "      <th>4</th>\n",
              "      <td>0.348975</td>\n",
              "      <td>1.0</td>\n",
              "      <td>-0.519720</td>\n",
              "      <td>1.0</td>\n",
              "      <td>-1.562190</td>\n",
              "      <td>0.0</td>\n",
              "      <td>6.507077e-01</td>\n",
              "      <td>1.262550</td>\n",
              "      <td>NaN</td>\n",
              "      <td>0.0</td>\n",
              "      <td>0.0</td>\n",
              "      <td>-1.575238</td>\n",
              "      <td>1</td>\n",
              "    </tr>\n",
              "    <tr>\n",
              "      <th>5</th>\n",
              "      <td>2.443668</td>\n",
              "      <td>1.0</td>\n",
              "      <td>-0.692768</td>\n",
              "      <td>0.0</td>\n",
              "      <td>0.171307</td>\n",
              "      <td>1.0</td>\n",
              "      <td>-6.069065e-01</td>\n",
              "      <td>0.682565</td>\n",
              "      <td>-1.184153</td>\n",
              "      <td>1.0</td>\n",
              "      <td>1.0</td>\n",
              "      <td>-1.575238</td>\n",
              "      <td>1</td>\n",
              "    </tr>\n",
              "    <tr>\n",
              "      <th>6</th>\n",
              "      <td>1.186852</td>\n",
              "      <td>1.0</td>\n",
              "      <td>-0.388020</td>\n",
              "      <td>0.0</td>\n",
              "      <td>-1.995565</td>\n",
              "      <td>0.0</td>\n",
              "      <td>-1.394193e+00</td>\n",
              "      <td>-0.187412</td>\n",
              "      <td>0.055951</td>\n",
              "      <td>1.0</td>\n",
              "      <td>0.0</td>\n",
              "      <td>-1.549470</td>\n",
              "      <td>1</td>\n",
              "    </tr>\n",
              "    <tr>\n",
              "      <th>7</th>\n",
              "      <td>-0.069964</td>\n",
              "      <td>1.0</td>\n",
              "      <td>-0.282354</td>\n",
              "      <td>1.0</td>\n",
              "      <td>1.904804</td>\n",
              "      <td>0.0</td>\n",
              "      <td>1.949220e+00</td>\n",
              "      <td>-0.284076</td>\n",
              "      <td>-1.432174</td>\n",
              "      <td>1.0</td>\n",
              "      <td>1.0</td>\n",
              "      <td>-1.549470</td>\n",
              "      <td>1</td>\n",
              "    </tr>\n",
              "    <tr>\n",
              "      <th>8</th>\n",
              "      <td>0.348975</td>\n",
              "      <td>0.0</td>\n",
              "      <td>-0.524315</td>\n",
              "      <td>0.0</td>\n",
              "      <td>2.338178</td>\n",
              "      <td>0.0</td>\n",
              "      <td>7.523047e-09</td>\n",
              "      <td>0.102580</td>\n",
              "      <td>0.303972</td>\n",
              "      <td>0.0</td>\n",
              "      <td>0.0</td>\n",
              "      <td>-1.549470</td>\n",
              "      <td>1</td>\n",
              "    </tr>\n",
              "    <tr>\n",
              "      <th>9</th>\n",
              "      <td>1.605791</td>\n",
              "      <td>1.0</td>\n",
              "      <td>-0.576382</td>\n",
              "      <td>0.0</td>\n",
              "      <td>-0.262067</td>\n",
              "      <td>1.0</td>\n",
              "      <td>1.274403e+00</td>\n",
              "      <td>7.739045</td>\n",
              "      <td>-0.936133</td>\n",
              "      <td>1.0</td>\n",
              "      <td>1.0</td>\n",
              "      <td>-1.549470</td>\n",
              "      <td>1</td>\n",
              "    </tr>\n",
              "    <tr>\n",
              "      <th>10</th>\n",
              "      <td>1.186852</td>\n",
              "      <td>1.0</td>\n",
              "      <td>-0.640701</td>\n",
              "      <td>0.0</td>\n",
              "      <td>-0.002043</td>\n",
              "      <td>1.0</td>\n",
              "      <td>1.069912e+00</td>\n",
              "      <td>2.519183</td>\n",
              "      <td>-1.432174</td>\n",
              "      <td>1.0</td>\n",
              "      <td>1.0</td>\n",
              "      <td>-1.549470</td>\n",
              "      <td>1</td>\n",
              "    </tr>\n",
              "    <tr>\n",
              "      <th>11</th>\n",
              "      <td>0.097611</td>\n",
              "      <td>0.0</td>\n",
              "      <td>-0.410991</td>\n",
              "      <td>0.0</td>\n",
              "      <td>-1.128816</td>\n",
              "      <td>1.0</td>\n",
              "      <td>-1.059057e-01</td>\n",
              "      <td>-0.477404</td>\n",
              "      <td>0.800013</td>\n",
              "      <td>1.0</td>\n",
              "      <td>1.0</td>\n",
              "      <td>-1.549470</td>\n",
              "      <td>1</td>\n",
              "    </tr>\n",
              "    <tr>\n",
              "      <th>12</th>\n",
              "      <td>-1.326780</td>\n",
              "      <td>1.0</td>\n",
              "      <td>0.737558</td>\n",
              "      <td>0.0</td>\n",
              "      <td>-0.695442</td>\n",
              "      <td>0.0</td>\n",
              "      <td>-1.302173e+00</td>\n",
              "      <td>-0.284076</td>\n",
              "      <td>0.055951</td>\n",
              "      <td>1.0</td>\n",
              "      <td>0.0</td>\n",
              "      <td>-1.536586</td>\n",
              "      <td>1</td>\n",
              "    </tr>\n",
              "    <tr>\n",
              "      <th>13</th>\n",
              "      <td>-0.907842</td>\n",
              "      <td>1.0</td>\n",
              "      <td>-0.507469</td>\n",
              "      <td>0.0</td>\n",
              "      <td>-0.002043</td>\n",
              "      <td>1.0</td>\n",
              "      <td>1.292579e-01</td>\n",
              "      <td>-0.284076</td>\n",
              "      <td>0.055951</td>\n",
              "      <td>1.0</td>\n",
              "      <td>0.0</td>\n",
              "      <td>-1.536586</td>\n",
              "      <td>1</td>\n",
              "    </tr>\n",
              "    <tr>\n",
              "      <th>14</th>\n",
              "      <td>-0.991629</td>\n",
              "      <td>1.0</td>\n",
              "      <td>-0.642232</td>\n",
              "      <td>0.0</td>\n",
              "      <td>-0.695442</td>\n",
              "      <td>1.0</td>\n",
              "      <td>1.673158e+00</td>\n",
              "      <td>-0.380740</td>\n",
              "      <td>0.303972</td>\n",
              "      <td>0.0</td>\n",
              "      <td>0.0</td>\n",
              "      <td>-1.523701</td>\n",
              "      <td>0</td>\n",
              "    </tr>\n",
              "    <tr>\n",
              "      <th>15</th>\n",
              "      <td>1.773366</td>\n",
              "      <td>1.0</td>\n",
              "      <td>-0.184344</td>\n",
              "      <td>0.0</td>\n",
              "      <td>1.038055</td>\n",
              "      <td>0.0</td>\n",
              "      <td>-2.212154e+00</td>\n",
              "      <td>-0.090748</td>\n",
              "      <td>-0.192070</td>\n",
              "      <td>1.0</td>\n",
              "      <td>0.0</td>\n",
              "      <td>-1.510817</td>\n",
              "      <td>1</td>\n",
              "    </tr>\n",
              "    <tr>\n",
              "      <th>16</th>\n",
              "      <td>2.192305</td>\n",
              "      <td>1.0</td>\n",
              "      <td>-0.536566</td>\n",
              "      <td>0.0</td>\n",
              "      <td>-0.002043</td>\n",
              "      <td>0.0</td>\n",
              "      <td>-1.388518e-02</td>\n",
              "      <td>-0.477404</td>\n",
              "      <td>0.800013</td>\n",
              "      <td>1.0</td>\n",
              "      <td>0.0</td>\n",
              "      <td>-1.497933</td>\n",
              "      <td>1</td>\n",
              "    </tr>\n",
              "    <tr>\n",
              "      <th>17</th>\n",
              "      <td>-1.326780</td>\n",
              "      <td>0.0</td>\n",
              "      <td>0.126530</td>\n",
              "      <td>0.0</td>\n",
              "      <td>NaN</td>\n",
              "      <td>0.0</td>\n",
              "      <td>-9.954377e-01</td>\n",
              "      <td>-0.574068</td>\n",
              "      <td>-2.424258</td>\n",
              "      <td>1.0</td>\n",
              "      <td>0.0</td>\n",
              "      <td>-1.497933</td>\n",
              "      <td>1</td>\n",
              "    </tr>\n",
              "    <tr>\n",
              "      <th>18</th>\n",
              "      <td>0.767913</td>\n",
              "      <td>1.0</td>\n",
              "      <td>-0.573319</td>\n",
              "      <td>0.0</td>\n",
              "      <td>-1.128816</td>\n",
              "      <td>1.0</td>\n",
              "      <td>-2.694978e-01</td>\n",
              "      <td>-0.380740</td>\n",
              "      <td>0.800013</td>\n",
              "      <td>0.0</td>\n",
              "      <td>0.0</td>\n",
              "      <td>-1.485049</td>\n",
              "      <td>1</td>\n",
              "    </tr>\n",
              "    <tr>\n",
              "      <th>19</th>\n",
              "      <td>-1.075417</td>\n",
              "      <td>1.0</td>\n",
              "      <td>0.126530</td>\n",
              "      <td>1.0</td>\n",
              "      <td>1.471430</td>\n",
              "      <td>0.0</td>\n",
              "      <td>-1.803174e+00</td>\n",
              "      <td>0.489237</td>\n",
              "      <td>-3.912383</td>\n",
              "      <td>0.0</td>\n",
              "      <td>0.0</td>\n",
              "      <td>-1.485049</td>\n",
              "      <td>1</td>\n",
              "    </tr>\n",
              "  </tbody>\n",
              "</table>\n",
              "</div>"
            ],
            "text/plain": [
              "         age  anaemia  creatinine_phosphokinase  diabetes  ejection_fraction  \\\n",
              "0   1.186852      0.0                  0.126530       0.0          -1.562190   \n",
              "1  -0.488903      0.0                       NaN       0.0          -0.002043   \n",
              "2   0.348975      0.0                 -0.541160       0.0          -1.562190   \n",
              "3  -0.907842      1.0                 -0.594759       0.0          -1.562190   \n",
              "4   0.348975      1.0                 -0.519720       1.0          -1.562190   \n",
              "5   2.443668      1.0                 -0.692768       0.0           0.171307   \n",
              "6   1.186852      1.0                 -0.388020       0.0          -1.995565   \n",
              "7  -0.069964      1.0                 -0.282354       1.0           1.904804   \n",
              "8   0.348975      0.0                 -0.524315       0.0           2.338178   \n",
              "9   1.605791      1.0                 -0.576382       0.0          -0.262067   \n",
              "10  1.186852      1.0                 -0.640701       0.0          -0.002043   \n",
              "11  0.097611      0.0                 -0.410991       0.0          -1.128816   \n",
              "12 -1.326780      1.0                  0.737558       0.0          -0.695442   \n",
              "13 -0.907842      1.0                 -0.507469       0.0          -0.002043   \n",
              "14 -0.991629      1.0                 -0.642232       0.0          -0.695442   \n",
              "15  1.773366      1.0                 -0.184344       0.0           1.038055   \n",
              "16  2.192305      1.0                 -0.536566       0.0          -0.002043   \n",
              "17 -1.326780      0.0                  0.126530       0.0                NaN   \n",
              "18  0.767913      1.0                 -0.573319       0.0          -1.128816   \n",
              "19 -1.075417      1.0                  0.126530       1.0           1.471430   \n",
              "\n",
              "    high_blood_pressure     platelets  serum_creatinine  serum_sodium  sex  \\\n",
              "0                   1.0  1.678834e-02          0.489237     -1.680195  1.0   \n",
              "1                   0.0  7.523047e-09         -0.284076     -0.192070  1.0   \n",
              "2                   0.0 -1.036336e+00         -0.090748     -1.928216  1.0   \n",
              "3                   0.0 -5.455595e-01          0.489237      0.055951  1.0   \n",
              "4                   0.0  6.507077e-01          1.262550           NaN  0.0   \n",
              "5                   1.0 -6.069065e-01          0.682565     -1.184153  1.0   \n",
              "6                   0.0 -1.394193e+00         -0.187412      0.055951  1.0   \n",
              "7                   0.0  1.949220e+00         -0.284076     -1.432174  1.0   \n",
              "8                   0.0  7.523047e-09          0.102580      0.303972  0.0   \n",
              "9                   1.0  1.274403e+00          7.739045     -0.936133  1.0   \n",
              "10                  1.0  1.069912e+00          2.519183     -1.432174  1.0   \n",
              "11                  1.0 -1.059057e-01         -0.477404      0.800013  1.0   \n",
              "12                  0.0 -1.302173e+00         -0.284076      0.055951  1.0   \n",
              "13                  1.0  1.292579e-01         -0.284076      0.055951  1.0   \n",
              "14                  1.0  1.673158e+00         -0.380740      0.303972  0.0   \n",
              "15                  0.0 -2.212154e+00         -0.090748     -0.192070  1.0   \n",
              "16                  0.0 -1.388518e-02         -0.477404      0.800013  1.0   \n",
              "17                  0.0 -9.954377e-01         -0.574068     -2.424258  1.0   \n",
              "18                  1.0 -2.694978e-01         -0.380740      0.800013  0.0   \n",
              "19                  0.0 -1.803174e+00          0.489237     -3.912383  0.0   \n",
              "\n",
              "    smoking      time  DEATH_EVENT  \n",
              "0       0.0 -1.626775            1  \n",
              "1       0.0 -1.601007            1  \n",
              "2       1.0 -1.588122            1  \n",
              "3       0.0 -1.588122            1  \n",
              "4       0.0 -1.575238            1  \n",
              "5       1.0 -1.575238            1  \n",
              "6       0.0 -1.549470            1  \n",
              "7       1.0 -1.549470            1  \n",
              "8       0.0 -1.549470            1  \n",
              "9       1.0 -1.549470            1  \n",
              "10      1.0 -1.549470            1  \n",
              "11      1.0 -1.549470            1  \n",
              "12      0.0 -1.536586            1  \n",
              "13      0.0 -1.536586            1  \n",
              "14      0.0 -1.523701            0  \n",
              "15      0.0 -1.510817            1  \n",
              "16      0.0 -1.497933            1  \n",
              "17      0.0 -1.497933            1  \n",
              "18      0.0 -1.485049            1  \n",
              "19      0.0 -1.485049            1  "
            ]
          },
          "metadata": {},
          "output_type": "display_data"
        }
      ],
      "source": [
        "\n",
        "def zero_mean_and_unit_variance(df, cols_to_exclude):\n",
        "    df.loc[:, df.columns.difference(cols_to_exclude)] = df.loc[:, df.columns.difference(cols_to_exclude)].apply(lambda x: (x - x.mean()) / x.std())\n",
        "\n",
        "categorical_cols = ['anaemia','diabetes', 'high_blood_pressure', 'sex','smoking', 'DEATH_EVENT']\n",
        "zero_mean_and_unit_variance(heart_df, categorical_cols)\n",
        "\n",
        "display(heart_df.head(20))"
      ]
    },
    {
      "cell_type": "markdown",
      "metadata": {
        "id": "E98vhjP2ymHV"
      },
      "source": [
        "## Problem 2.4"
      ]
    },
    {
      "cell_type": "code",
      "execution_count": 27,
      "metadata": {
        "id": "SPylR2kxymHW"
      },
      "outputs": [],
      "source": [
        "one_hot_encoded = pd.get_dummies(heart_df, columns=['DEATH_EVENT'], prefix='DEATH_EVENT')\n",
        "\n",
        "one_hot_encoded.to_csv('heart_failure_dataset_processed.csv', index=False)"
      ]
    },
    {
      "cell_type": "markdown",
      "metadata": {
        "id": "xfPMV5BEymHW"
      },
      "source": [
        "## Problem 2.5"
      ]
    },
    {
      "cell_type": "code",
      "execution_count": 28,
      "metadata": {
        "id": "RgVpyMUmymHW"
      },
      "outputs": [
        {
          "data": {
            "text/plain": [
              "DEATH_EVENT                 1.000000\n",
              "serum_creatinine            0.294278\n",
              "age                         0.254871\n",
              "high_blood_pressure         0.079351\n",
              "anaemia                     0.066270\n",
              "diabetes                   -0.001943\n",
              "sex                        -0.004316\n",
              "smoking                    -0.012623\n",
              "creatinine_phosphokinase   -0.039709\n",
              "platelets                  -0.049139\n",
              "serum_sodium               -0.203677\n",
              "ejection_fraction          -0.258994\n",
              "time                       -0.526964\n",
              "Name: DEATH_EVENT, dtype: float64"
            ]
          },
          "metadata": {},
          "output_type": "display_data"
        }
      ],
      "source": [
        "correlation_matrix = heart_df.corr()\n",
        "\n",
        "death_event_corr = correlation_matrix['DEATH_EVENT'].sort_values(ascending=False)\n",
        "display(death_event_corr)"
      ]
    },
    {
      "cell_type": "markdown",
      "metadata": {
        "id": "ANRm2Vxh1Cda"
      },
      "source": [
        "### (a)"
      ]
    },
    {
      "cell_type": "markdown",
      "metadata": {
        "id": "2E0LfOKm1CVp"
      },
      "source": [
        "The variables that are most positively correlated with 'DEATH_EVENT' are 'DEATH_EVENT' itself and 'serum_creatine'."
      ]
    },
    {
      "cell_type": "markdown",
      "metadata": {
        "id": "HewpTMK61CI7"
      },
      "source": [
        "### (b)"
      ]
    },
    {
      "cell_type": "markdown",
      "metadata": {
        "id": "LRK015A91B-R"
      },
      "source": [
        "The variables that are most negatively correlated with 'DEATH_EVENT' are 'time' and 'ejection_fraction'."
      ]
    },
    {
      "cell_type": "markdown",
      "metadata": {
        "id": "jnGzZ9gO1BoX"
      },
      "source": [
        "### (c)"
      ]
    },
    {
      "cell_type": "markdown",
      "metadata": {
        "id": "zXc0HGwg1BlY"
      },
      "source": [
        "It's logical that serum creatinine has a positive correlation with death because serum creatinine is a marker of kidney function and higher levels of it often indicate a bad kidney which can lead to death."
      ]
    },
    {
      "cell_type": "markdown",
      "metadata": {
        "id": "fE1TPn3s1Xq9"
      },
      "source": [
        "### (d)"
      ]
    },
    {
      "cell_type": "markdown",
      "metadata": {
        "id": "1RXjXFH81XhL"
      },
      "source": [
        "It's logical that time is negatively correlated with the DEATH_EVENT variable because time indicates the period between the initial visit and the follow visit, so the longer this period is, the longer the patient has survived, indicating that their DEATH_EVENT value is 0.\n",
        "\n",
        "It's also logical that ejection fraction is negatively correlated with the DEATH_EVENT variable because ejection fraction measures the percentage of blood pumped out of the heart with each beat, therefore the lower this number is the higher the probability of the patient dying."
      ]
    }
  ],
  "metadata": {
    "colab": {
      "collapsed_sections": [],
      "provenance": []
    },
    "kernelspec": {
      "display_name": "Python 3",
      "language": "python",
      "name": "python3"
    },
    "language_info": {
      "codemirror_mode": {
        "name": "ipython",
        "version": 3
      },
      "file_extension": ".py",
      "mimetype": "text/x-python",
      "name": "python",
      "nbconvert_exporter": "python",
      "pygments_lexer": "ipython3",
      "version": "3.9.12"
    }
  },
  "nbformat": 4,
  "nbformat_minor": 0
}
